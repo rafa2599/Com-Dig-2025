{
 "cells": [
  {
   "cell_type": "markdown",
   "id": "7fc84889",
   "metadata": {},
   "source": [
    "### Parete 2: Diseño del Waveform Former - n-Tuple Former "
   ]
  },
  {
   "cell_type": "markdown",
   "id": "5f014970",
   "metadata": {},
   "source": [
    "$$\n",
    "\\begin{aligned}\n",
    "&\\text{La segunda etapa consiste en generar la forma de onda a transmitir a partir del numero decimal entero } s(nT_s), \\\\\n",
    "&\\text{esta onda se denomina chirp, donde el termino S(nTs) indica la frecuencia inicial a partir de la cual dicha señal} \\\\\n",
    "&\\text{comienza a transmitir los símbolos codificados.}\n",
    "\\end{aligned}\n",
    "$$"
   ]
  },
  {
   "cell_type": "markdown",
   "id": "a878d169",
   "metadata": {},
   "source": [
    "$$\n",
    "\\begin{aligned}\n",
    "&\\textbf{Forma de onda modulada por FSCM:} \\\\[1em]\n",
    "&\\hspace{5cm} c(nT_s + kT) = \\frac{1}{\\sqrt{2^{SF}}} \\cdot e^{j2\\pi[(s(nT_s)+k) \\bmod 2^{SF}]\\frac{kT}{B}} \\quad (2) \\\\[1em]\n",
    "&\\text{donde:} \\\\\n",
    "&\\hspace{1cm} c(nT_s + kT) \\text{ es la señal chirp modulada en el tiempo } nT_s + kT \\\\\n",
    "&\\hspace{1cm} \\frac{1}{\\sqrt{2^{SF}}} \\text{ es el factor de normalización de energía (asegura energía unitaria para cada símbolo)} \\\\\n",
    "&\\hspace{1cm} s(nT_s) \\text{ es el símbolo codificado (de la Ecuación 1)} \\\\\n",
    "&\\hspace{1cm} k \\text{ es el índice de muestra dentro del símbolo } (k = 0, 1, ..., 2^{SF}-1) \\\\\n",
    "&\\hspace{1cm} T \\text{ es el período de muestreo} \\\\\n",
    "&\\hspace{1cm} B \\text{ es el ancho de banda del canal} \\\\\n",
    "&\\hspace{1cm} \\bmod 2^{SF} \\text{ indica la operación módulo } 2^{SF} \\\\[2em]\n",
    "&\\textbf{Características principales:} \\\\[1em]\n",
    "&\\text{1. Chirp complejo: La señal tiene frecuencia linealmente creciente dentro de cada símbolo} \\\\\n",
    "&\\text{2. Frecuencia instantánea: Depende de } (s(nT_s)+k) \\bmod 2^{SF}, \\text{ que representa un corrimiento de frecuencia} \\\\\n",
    "&\\text{\\hspace{0.5cm} específico para cada símbolo} \\\\\n",
    "&\\text{3. Ortogonalidad: Los diferentes símbolos generan chirps ortogonales entre sí, facilitando la decodificación} \\\\\n",
    "&\\text{4. Normalización: El factor } \\frac{1}{\\sqrt{2^{SF}}} \\text{ mantiene la energía constante por símbolo}\n",
    "\\end{aligned}\n",
    "$$"
   ]
  }
 ],
 "metadata": {
  "language_info": {
   "name": "python"
  }
 },
 "nbformat": 4,
 "nbformat_minor": 5
}
