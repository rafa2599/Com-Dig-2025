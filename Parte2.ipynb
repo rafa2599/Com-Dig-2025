{
 "cells": [
  {
   "cell_type": "markdown",
   "id": "7fc84889",
   "metadata": {},
   "source": [
    "### Parete 2: Diseño del Waveform Former - n-Tuple Former "
   ]
  },
  {
   "cell_type": "markdown",
   "id": "5f014970",
   "metadata": {},
   "source": [
    "$$\n",
    "\\begin{aligned}\n",
    "&\\text{La segunda etapa consiste en generar la forma de onda a transmitir a partir del numero decimal entero } s(nT_s), \\\\\n",
    "&\\text{esta onda se denomina chirp, donde el termino S(nTs) indica la frecuencia inicial a partir de la cual dicha señal} \\\\\n",
    "&\\text{comienza a transmitir los símbolos codificados.}\n",
    "\\end{aligned}\n",
    "$$"
   ]
  },
  {
   "cell_type": "markdown",
   "id": "a878d169",
   "metadata": {},
   "source": [
    "$$\n",
    "\\begin{aligned}\n",
    "&\\textbf{Forma de onda modulada por FSCM:} \\\\[1em]\n",
    "&\\hspace{5cm} c(nT_s + kT) = \\frac{1}{\\sqrt{2^{SF}}} \\cdot e^{j2\\pi[(s(nT_s)+k) \\bmod 2^{SF}]\\frac{kT}{B}} \\quad (2) \\\\[1em]\n",
    "&\\text{donde:} \\\\\n",
    "&\\hspace{1cm} c(nT_s + kT) \\text{ es la señal chirp modulada en el tiempo } nT_s + kT \\\\\n",
    "&\\hspace{1cm} \\frac{1}{\\sqrt{2^{SF}}} \\text{ es el factor de normalización de energía (asegura energía unitaria para cada símbolo)} \\\\\n",
    "&\\hspace{1cm} s(nT_s) \\text{ es el símbolo codificado (de la Ecuación 1)} \\\\\n",
    "&\\hspace{1cm} k \\text{ es el índice de muestra dentro del símbolo } (k = 0, 1, ..., 2^{SF}-1) \\\\\n",
    "&\\hspace{1cm} T \\text{ es el período de muestreo} \\\\\n",
    "&\\hspace{1cm} B \\text{ es el ancho de banda del canal} \\\\\n",
    "&\\hspace{1cm} \\bmod 2^{SF} \\text{ indica la operación módulo } 2^{SF} \\\\[2em]\n",
    "\n",
    "&\\text{La ecuación } (2) \\text{ del papaer define la forma de onda transmitida por el modulador FSCM, donde cada} \\\\\n",
    "&\\text{ símbolo} s(nT_s) \\in {0,1,...,2^SF} \\text{codifica SF bits binarios} \\\\\n",
    "\n",
    "&\\textbf{Características principales:} \\\\[1em]\n",
    "&\\text{1. Chirp complejo: La señal tiene frecuencia linealmente creciente dentro de cada símbolo} \\\\\n",
    "&\\text{2. Frecuencia instantánea: Depende de } (s(nT_s)+k) \\bmod 2^{SF}, \\text{ que representa un corrimiento de frecuencia} \\\\\n",
    "&\\text{\\hspace{0.5cm} específico para cada símbolo y hace que la frecuencia aumente de manera lineal en el tiempo } \\\\\n",
    "&\\text{3. Ortogonalidad: Los diferentes símbolos generan chirps ortogonales entre sí, facilitando la decodificación} \\\\\n",
    "&\\text{4. Normalización: El factor } \\frac{1}{\\sqrt{2^{SF}}} \\text{ mantiene la energía constante por símbolo} \\\\ \n",
    "&\\text{\\hspace{0.5cm}es el proceso mediante el cual una señal se escala para que su energía total sea igual a 1 } \\\\\n",
    "&\\text{\\hspace{0.5cm} Esto permite: comparar distintas señales de forma justa, controlaar la energía o potencia  } \\\\\n",
    "&\\text{\\hspace{0.5cm} promedio transmitida y aplicar citerios óptimos  } (como detección ML) \\text{ sin sesgos por amplitud} \\\\\n",
    "&\\text{a. Esto asegura que todos los símbolos tengan energía unitaria, lo que es necesario para el análisis óptimo en  }  \\\\\n",
    "&\\text{\\hspace{0.5cm} presencia de ruido blanco  } (AWGN) \\\\\n",
    "&\\textbf{Ventajas:} \\\\[1em]\n",
    "&\\text{1. Robustez en canales selectivos: propiedad de una modulación que permite mantener baja tasa de error en } \\\\\n",
    "&\\text{\\hspace{0.5cm} presencia de canales con respuesta en frecuencia no plana, es decir, donde ciertas subbandas del } \\\\\n",
    "&\\text{\\hspace{0.5cm} espectro sufren atenuación significativa. } \\\\\n",
    "&\\text{2. Demodulación eficiente: implementación del proceso de detección óptima con complejidad computacional reducida, } \\\\\n",
    "&\\text{\\hspace{0.5cm} frecuentemente lograda mediante rápidas (FFT), evitando correlaciones directas sobre una base completa de señales } \\\\\n",
    "\n",
    "&\\textbf{Resumen:} \\\\[1em]\n",
    "&\\text{Modela cada símbolo como un chirp complejo que varía su frecuencia en el tiempo con una pendiente fija, pero que} \\\\\n",
    "&\\text{\\hspace{0.5cm} comienza en una frecuencia inicial diferente para cada símbolo. Esto hace que los símbolos sean  } \\\\\n",
    "&\\text{\\hspace{0.5cm} ortogonales, tengan la misma energía y puedan demodularse de forma eficiente usando una FFT} \\\\\n",
    "\\end{aligned}\n",
    "$$"
   ]
  },
  {
   "cell_type": "markdown",
   "id": "aab55b08",
   "metadata": {},
   "source": [
    "$$\n",
    "\\begin{aligned}\n",
    "&\\text{A partir de esta señal se plantea la ecuación que describe la señal recibida por el n\\text{-}tuple\\ former,} \\\\\n",
    "&\\text{donde se parte de la suposición de que las señales son de igual energía y con una sincronización perfecta} \\\\\n",
    "&\\text{en tiempo y frecuencia; así como también una fuente que emite símbolos con la misma probabilidad.} \\\\[1em]\n",
    "&\\hspace{5cm} r(nT_s + kT) = c(nT_s + kT) + w(nT_s + kT) \\\\[1em]\n",
    "&\\text{donde:} \\\\\n",
    "&\\hspace{1cm} c(nT_s + kT): \\text{ la chirp transmitida para el símbolo } s(nT_s) \\\\\n",
    "&\\hspace{1cm} w(nT_s + kT): \\text{ ruido blanco gaussiano} \\\\\n",
    "&\\hspace{1cm} r: \\text{ señal recibida}\n",
    "\\end{aligned}\n",
    "$$"
   ]
  },
  {
   "cell_type": "markdown",
   "id": "14eeaabb",
   "metadata": {},
   "source": [
    "$$\n",
    "\\begin{aligned}\n",
    "&\\text{Luego se pasa al proceso de demodulación, cuyo objetivo es la demodulación óptima de la señal.} \\\\\n",
    "&\\text{En este sentido, como el receptor no sabe cuál chirp } c(nT_s + kT) \\text{ fue transmitida, prueba con todas las posibles} \\\\\n",
    "&\\text{ } q = 0, \\ldots, 2^{SF}-1 \\text{ y calcula la \"proyección\" (o correlación) entre la señal recibida } r \\text{ y cada chirp candidata.} \\\\[1em]\n",
    "&\\text{Esto es:} \\\\[0.5em]\n",
    "&\\langle r, c_q \\rangle = \\sum_k r(nT_s + kT) \\cdot c_q^*(nT_s + kT) \\\\[1em]\n",
    "&\\text{Esto mide cuánto se parece la señal recibida a cada chirp posible. La mejor estimación es la que tenga el} \\\\\n",
    "&\\text{módulo cuadrado más alto de esta proyección:} \\\\[1em]\n",
    "&\\hat{s} = \\arg\\max_q \\left| \\langle r, c_q \\rangle \\right|^2 \\\\[1em]\n",
    "&\\text{De esta manera, el paper plantea una forma específica y computacionalmente optimizada de esa misma proyección.}\n",
    "\\end{aligned}\n",
    "$$"
   ]
  },
  {
   "cell_type": "markdown",
   "id": "bada7b09",
   "metadata": {},
   "source": [
    "$$\n",
    "= \\sum_{k=0}^{2^{SF}-1} \n",
    "\\underbrace{r(nT_s + kT) \\cdot e^{-j2\\pi \\frac{k^2}{2^{SF}}}}_{d(nT_s + kT)}\n",
    "\\cdot \\frac{1}{\\sqrt{2^{SF}}} e^{-j2\\pi p_k \\frac{1}{2^{SF}}}\n",
    "$$"
   ]
  }
 ],
 "metadata": {
  "language_info": {
   "name": "python"
  }
 },
 "nbformat": 4,
 "nbformat_minor": 5
}
