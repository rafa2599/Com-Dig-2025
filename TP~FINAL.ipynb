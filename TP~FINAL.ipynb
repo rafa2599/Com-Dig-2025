{
 "cells": [
  {
   "cell_type": "markdown",
   "id": "729e239a",
   "metadata": {},
   "source": [
    "$$\n",
    "\\begin{array}{c}\n",
    "\\LARGE \\textbf{Trabajo\\ Final\\ de\\ Comunicaciones\\ Digitales}\n",
    "\\end{array}\n",
    "$$"
   ]
  },
  {
   "cell_type": "markdown",
   "id": "11594a3a",
   "metadata": {},
   "source": [
    "$$\n",
    "\\begin{aligned}\n",
    "&\\textbf{Introducción}\n",
    "\\end{aligned}\n",
    "$$"
   ]
  },
  {
   "cell_type": "markdown",
   "id": "368637ff",
   "metadata": {},
   "source": []
  },
  {
   "cell_type": "markdown",
   "id": "dfe023ee",
   "metadata": {},
   "source": [
    "$$\n",
    "\\begin{aligned}\n",
    "&\\textbf{Marco teórico}\n",
    "\\end{aligned}\n",
    "$$"
   ]
  },
  {
   "cell_type": "markdown",
   "id": "611b0adf",
   "metadata": {},
   "source": [
    "$$\n",
    "\\begin{aligned}\n",
    "&\\text{El auge del Internet de las Cosas (IoT) ha impulsado el desarrollo de tecnologías de comunicación de bajo consumo y largo alcance,} \\\\\n",
    "&\\text{conocidas como Low Power Wide Area Networks (LPWAN). Dentro de este marco, LoRa (Long Range) es el estándar que se ha consolidado} \\\\\n",
    "&\\text{como una tecnología ideal para la comunicación inalámbrica de largo alcance y bajo consumo energético.} \\\\[1em]\n",
    "&\\text{En este sentido, el artículo propuesto por la cátedra introduce una formulación matemática para la modulación LoRa, la cual puede} \\\\\n",
    "&\\text{describirse como una modulación chirp con desplazamiento de frecuencia (Frequency Shift Chirp Modulation, FSCM).Esta técnica se basa} \\\\\n",
    "&\\text{en la codificación de bits en símbolos enteros y en la generación de señales chirp cuya frecuencia depende de dichos símbolos. Además,} \\\\\n",
    "&\\text{en esta formulación, la información está codificada en el desplazamiento inicial de frecuencia del chirp, y no depende de la pendiente} \\\\\n",
    "&\\text{ni en la duración de la señal. Este enfoque permite definir una base ortogonal de señales discretas, lo que favorece una demodulación} \\\\\n",
    "&\\text{eficiente mediante la Transformada Rápida de Fourier (FFT).}\n",
    "\\end{aligned}\n",
    "$$"
   ]
  },
  {
   "cell_type": "markdown",
   "id": "c6103f47",
   "metadata": {},
   "source": [
    "$$\n",
    "\\begin{aligned}\n",
    "&\\textbf{Desarrollo}\n",
    "\\end{aligned}\n",
    "$$"
   ]
  },
  {
   "cell_type": "markdown",
   "id": "6ede2503",
   "metadata": {},
   "source": [
    "$$\n",
    "\\begin{aligned}\n",
    "&\\text{Este proceso de codificación, tal como se describe matemáticamente en el artículo, puede descomponerse en varias etapas fundamentales.} \\\\\n",
    "&\\text{La primera de ellas es el mapeo de bits a un símbolo decimal, y comienza con un vector } w(nT_s) \\text{ compuesto por una cantidad fija de bits} \\\\\n",
    "&\\text{determinada por el parámetro Spreading Factor (SF), el cual representa la cantidad de bits por símbolo y se define como:} \\\\[1em]\n",
    "&\\hspace{8cm} SF = \\log_2(M) \\\\[1em]\n",
    "&\\text{Donde $M$ es la cantidad total de símbolos posibles (cardinalidad de la modulación). Por ejemplo, si $SF = 5$, existen $2^5 = 32$ símbolos distintos.} \\\\\n",
    "&\\text{El valor decimal resultante de este mapeo, denotado como $s(nT_s)$, se obtiene al sumar los valores ponderados de los bits del vector $w(nT_s)$.} \\\\\n",
    "&\\text{Este número representa directamente la frecuencia inicial desde la cual se genera la señal chirp para su transmisión.} \\\\[1em]\n",
    "&\\textbf{Fórmula de codificación:} \\\\[1em]\n",
    "&\\hspace{8cm} s(nT_s) = \\sum_{h=0}^{SF-1} w_h(nT_s) \\cdot 2^h \\\\[1em]\n",
    "&\\text{donde:} \\\\\n",
    "&\\hspace{1cm} s(nT_s) \\in \\{0, ..., 2^{SF} - 1\\} \\text{ es el símbolo codificado} \\\\\n",
    "&\\hspace{1cm} w_h(nT_s) \\in \\{0, 1\\} \\text{ son los bits del bloque actual, ordenados desde el LSB} \\\\\n",
    "&\\hspace{1cm} SF \\text{ es el Spreading Factor (cantidad de bits por símbolo)} \\\\\n",
    "&\\hspace{1cm} h \\text{ es el índice del bit dentro del bloque}\n",
    "\\end{aligned}\n",
    "$$"
   ]
  },
  {
   "cell_type": "markdown",
   "id": "f524ab86",
   "metadata": {},
   "source": [
    "$$\n",
    "\\begin{aligned}\n",
    "&\\text{Este proceso de codificación, tal como se describe matemáticamente en el artículo, puede descomponerse en varias etapas fundamentales.} \\\\\n",
    "&\\text{La primera de ellas es el mapeo de bits a un símbolo decimal, y comienza con un vector $w(nT_s)$ compuesto por una cantidad fija de bits} \\\\\n",
    "&\\text{determinada por el parámetro Spreading Factor (SF), el cual representa la cantidad de bits por símbolo y se define como:} \\\\[1em]\n",
    "&\\hspace{8cm} SF = \\log_2(M) \\\\[1em]\n",
    "&\\text{Donde $M$ es la cantidad total de símbolos posibles (cardinalidad de la modulación). Por ejemplo, si $SF = 5$, existen $2^5 = 32$ símbolos distintos.} \\\\\n",
    "&\\text{El valor decimal resultante de este mapeo, denotado como $s(nT_s)$, se obtiene al sumar los valores ponderados de los bits del vector $w(nT_s)$.} \\\\\n",
    "&\\text{Este número representa directamente la frecuencia inicial desde la cual se genera la señal chirp para su transmisión.} \\\\[1em]\n",
    "&\\textbf{Fórmula de codificación:} \\\\[1em]\n",
    "&\\hspace{8cm} s(nT_s) = \\sum_{h=0}^{SF-1} w_h(nT_s) \\cdot 2^h \\\\[1em]\n",
    "&\\text{donde:} \\\\\n",
    "&\\hspace{1cm} s(nT_s) \\in \\{0, ..., 2^{SF} - 1\\} \\text{ es el símbolo codificado} \\\\\n",
    "&\\hspace{1cm} w_h(nT_s) \\in \\{0, 1\\} \\text{ son los bits del bloque actual, ordenados desde el LSB} \\\\\n",
    "&\\hspace{1cm} SF \\text{ es el Spreading Factor (cantidad de bits por símbolo)} \\\\\n",
    "&\\hspace{1cm} h \\text{ es el índice del bit dentro del bloque}\n",
    "\\end{aligned}\n",
    "$$"
   ]
  },
  {
   "cell_type": "markdown",
   "id": "dcdde48d",
   "metadata": {},
   "source": [
    "$$\n",
    "\\begin{aligned}\n",
    "&\\text{Suponiendo que el ancho de banda del canal utilizado es } B, \\text{ lo que implica que transmitimos una muestra cada:} \\\\[0.5em]\n",
    "&\\hspace{8cm} T = \\frac{1}{B} \\\\[1em]\n",
    "&\\text{Un símbolo } s(nT_s) \\text{ se transmite cada:} \\\\[0.5em]\n",
    "&\\hspace{8cm} T_s = 2^{SF} \\cdot T \\\\[1em]\n",
    "&\\text{Cada símbolo representa un número entero entre } 0 \\text{ y } 2^{SF} - 1. \\text{ Esto no solo determina la frecuencia con la que inicia el chirp,} \\\\\n",
    "&\\text{sino también cuán “extendida” estará la señal en el tiempo. A mayor } SF, \\text{ mayor será la duración del símbolo y mayor la resistencia al ruido,} \\\\\n",
    "&\\text{a costa de menor tasa de transmisión.} \\\\[1em]\n",
    "&\\text{Por otro lado, el decodificador es el componente encargado de inferir el mensaje original a partir de la señal recibida.} \\\\\n",
    "&\\text{En un canal aditivo de ruido blanco gaussiano (AWGN), la estrategia óptima es la de Máxima Verosimilitud (ML).} \\\\\n",
    "&\\text{Esta consiste en proyectar la señal recibida sobre todas las señales base posibles y elegir aquella cuya proyección maximice la expresión:} \\\\[0.5em]\n",
    "&\\hspace{8cm} \\max_{c} \\left| \\langle y, c \\rangle \\right| \\\\[1em]\n",
    "&\\text{Donde $c$ es una señal candidata y $y$ es la señal observada. Gracias a la ortogonalidad de las señales en FSCM,} \\\\\n",
    "&\\text{esta proyección puede implementarse eficientemente con una FFT.}\n",
    "\\end{aligned}\n",
    "$$"
   ]
  },
  {
   "cell_type": "markdown",
   "id": "0a1ed3c0",
   "metadata": {},
   "source": [
    "$$\n",
    "\\begin{aligned}\n",
    "&\\textbf{Implementación en Python}\n",
    "\\end{aligned}\n",
    "$$"
   ]
  },
  {
   "cell_type": "code",
   "execution_count": 9,
   "id": "f5a73e90",
   "metadata": {},
   "outputs": [],
   "source": [
    "import numpy as np\n",
    "\n",
    "def bits_to_symbols(bit_array, SF):\n",
    "    \"\"\"\n",
    "    Agrupa bits en bloques de tamaño SF y convierte cada grupo en un símbolo decimal.\n",
    "    \"\"\"\n",
    "    if len(bit_array) % SF != 0:\n",
    "        raise ValueError(f\"Número de bits ({len(bit_array)}) no divisible por el SF ({SF})\")\n",
    "\n",
    "    # Convertir a array de NumPy y reorganizar en filas de SF bits\n",
    "    bloques = np.array(bit_array).reshape(-1, SF)\n",
    "\n",
    "    # Calculamos los pesos binarios desde el bit más significativo al menos\n",
    "    pesos = [2**i for i in range(SF - 1, -1, -1)]\n",
    "\n",
    "    # Multiplicamos cada grupo por los pesos y sumamos para obtener los símbolos\n",
    "    symbols = []\n",
    "    for grupo in bloques:\n",
    "        decimal = sum(b * p for b, p in zip(grupo, pesos))\n",
    "        symbols.append(decimal)\n",
    "\n",
    "    return symbols"
   ]
  },
  {
   "cell_type": "code",
   "execution_count": 10,
   "id": "60bbeffd",
   "metadata": {},
   "outputs": [],
   "source": [
    "\n",
    "\n",
    "\n",
    "def symbols_to_bits(symbols, SF):\n",
    "    \"\"\"\n",
    "    Convierte una lista de símbolos (números enteros) a su forma binaria, \n",
    "    usando SF bits por símbolo.\n",
    "    \"\"\"\n",
    "    symbols = np.array(symbols)  # <- Esta línea soluciona el error\n",
    "\n",
    "    max_val = 2**SF\n",
    "    if np.any(symbols >= max_val):\n",
    "        raise ValueError(f\"Se encontró un símbolo mayor o igual a {max_val}, que no cabe en {SF} bits.\")\n",
    "\n",
    "    bits_acumulados = []\n",
    "    for num in symbols:\n",
    "        binarios = []\n",
    "        for i in range(SF - 1, -1, -1):\n",
    "            bit = (num >> i) & 1\n",
    "            binarios.append(bit)\n",
    "        bits_acumulados.extend(binarios)\n",
    "\n",
    "    return np.array(bits_acumulados)\n",
    "\n"
   ]
  },
  {
   "cell_type": "code",
   "execution_count": 11,
   "id": "733d40c0",
   "metadata": {},
   "outputs": [
    {
     "name": "stdout",
     "output_type": "stream",
     "text": [
      "Bits originales     (primeros 64): [1 1 0 1 1 1 0 0 1 1 1 0 1 0 1 1 1 1 1 1 0 0 1 1 0 1 0 0 1 0 0 0 1 1 1 0 0\n",
      " 1 1 1 0 1 0 0 0 0 0 0 0 1 1 0 0 1 0 0 1 1 0 1 1 0 0 1]\n",
      "Bits reconstruidos  (primeros 64): [1 1 0 1 1 1 0 0 1 1 1 0 1 0 1 1 1 1 1 1 0 0 1 1 0 1 0 0 1 0 0 0 1 1 1 0 0\n",
      " 1 1 1 0 1 0 0 0 0 0 0 0 1 1 0 0 1 0 0 1 1 0 1 1 0 0 1]\n",
      "--------------------------------------------------\n",
      "Cantidad total de bits: 7000\n",
      "Errores encontrados: 0\n",
      "Tasa de error (BER): 0.000000\n"
     ]
    }
   ],
   "source": [
    "\n",
    "\n",
    "def simulate_encoder_decoder(SF, total_bits):\n",
    "    \"\"\"\n",
    "    Simula el proceso completo: generación de bits aleatorios,\n",
    "    codificación a símbolos, decodificación y cálculo de tasa de error.\n",
    "    \"\"\"\n",
    "    if total_bits % SF != 0:\n",
    "        raise ValueError(\"La cantidad total de bits debe ser múltiplo del SF\")\n",
    "\n",
    "    # Paso 1: generación de bits (0s y 1s) al azar\n",
    "    tx_bits = np.random.randint(low=0, high=2, size=total_bits)\n",
    "    \n",
    "    # Paso 2: codificación (de bits a símbolos)\n",
    "    tx_symbols = bits_to_symbols(tx_bits, SF)\n",
    "\n",
    "    # Paso 3: \"transmisión\" sin errores (ideal), se puede modificar luego\n",
    "    rx_symbols = tx_symbols.copy()\n",
    "\n",
    "    # Paso 4: decodificación (símbolos de vuelta a bits)\n",
    "    rx_bits = symbols_to_bits(rx_symbols, SF)\n",
    "\n",
    "    # Paso 5: comparación bit a bit\n",
    "    errores = np.sum(tx_bits != rx_bits)\n",
    "    ber = errores / total_bits\n",
    "\n",
    "    # Imprimir información útil para inspección manual\n",
    "    print(\"Bits originales     (primeros 64):\", tx_bits[:64])\n",
    "    print(\"Bits reconstruidos  (primeros 64):\", rx_bits[:64])\n",
    "    print(\"-\" * 50)\n",
    "    print(f\"Cantidad total de bits: {total_bits}\")\n",
    "    print(f\"Errores encontrados: {errores}\")\n",
    "    print(f\"Tasa de error (BER): {ber:.6f}\")\n",
    "\n",
    "# Configuración y ejecución de prueba\n",
    "SF = 7\n",
    "num_bits = SF * 1000  # Múltiplo de SF para evitar errores\n",
    "simulate_encoder_decoder(SF, num_bits)\n"
   ]
  }
 ],
 "metadata": {
  "kernelspec": {
   "display_name": "Python 3",
   "language": "python",
   "name": "python3"
  },
  "language_info": {
   "codemirror_mode": {
    "name": "ipython",
    "version": 3
   },
   "file_extension": ".py",
   "mimetype": "text/x-python",
   "name": "python",
   "nbconvert_exporter": "python",
   "pygments_lexer": "ipython3",
   "version": "3.12.9"
  }
 },
 "nbformat": 4,
 "nbformat_minor": 5
}
