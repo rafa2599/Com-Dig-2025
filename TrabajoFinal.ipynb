{
 "cells": [
  {
   "cell_type": "markdown",
   "id": "69d94db4",
   "metadata": {},
   "source": [
    "$$\\text{Trabajo Final de Comunicaciones Digitales - Parte N° 1}$$"
   ]
  },
  {
   "cell_type": "markdown",
   "id": "8031bcfe",
   "metadata": {},
   "source": [
    "$\\text{Diseño del Codificador - Decodificador }$"
   ]
  },
  {
   "cell_type": "markdown",
   "id": "5a9a4e4c",
   "metadata": {},
   "source": [
    "$$\\text{Marco Teorico}$$\n",
    "\n",
    "$\\text{Codificador: es el dispositivo que toma el mensaje y produce la palabra codigo. El mensaje consise en una secuencia } $\n",
    "\n",
    "\n",
    "$\\text{Si queremos comunicar una secuencia de k bits. Existen } 2^k \\text{secuencias distintas y cada una deberia ser mapeada a }$\n",
    "$\\text{una secuencia de simbolos distinta}$ $$2^k \\leq m^n$$\n",
    "\n",
    "$\\text{La base matemática para lo que llamamos Codificacion binaria directa, es cuando se agrupan k bits y se interpretan}$\n",
    "$\\text{como un entero entre } 0 \\quad y\\quad 2^{k}-1$\n",
    "$\\text{, el cual se mapea a un simbolo dentro de un alfabeto de tamaño m = } 2^k$\n",
    "\n",
    "$$\\text{Símbolo} = \\sum_{i=0}^{SF-1} b_i \\cdot 2^i$$\n",
    "\n",
    "\n",
    "$\\text{Decodificador: es el dispositivo responsable de inferir el mensaje origial a }$\n",
    "$\\text{partir de la señal recibida. En el contexto}$\n",
    "$\\text{del canal AWGN (Ruido Blanco Gaussiano aditivo), el decodificador implementa una estrategia de Maxima Verosimilidus}$\n",
    "$\\text{Para un decodificador ML para el canal AWGN en tiempo discreto elige una de las secuencias de salida} x$\n",
    "$\\text{que maximiza: } $\n",
    "$$\\langle c, y \\rangle - \\frac{|c|^2}{2}$$"
   ]
  },
  {
   "cell_type": "markdown",
   "id": "c166d6a5",
   "metadata": {},
   "source": [
    "$\\text{Desarrollo}$\n",
    "\n",
    "$$\\text{Modulacion de chirp por desplazamiento de frecuencia}$$"
   ]
  },
  {
   "cell_type": "markdown",
   "id": "f2fad5af",
   "metadata": {},
   "source": [
    "$\\text{En el paper el proceso de codificación en la modulación por desplazamiento de frecuencia mediante chirps se describe matematicamete de manera precisa y puede descomponerse en tres etapa fundamentales}$\n",
    "\n",
    "$\\text{Etapa 1 ~ Mapeo de bits a simbolo decimal.}$\n",
    "\n",
    "$\\text{El proceso comienza con un vector w(nTs) compuesto por una cantidad determinada de bits, esta cantidad se denomina Spreading Factor (SF).El spreading Factor es el numero de bits por simbolos y se calcula como }𝑆𝐹=log2(𝑀), \\text{donde M es la cardinalidad de la modulación (la cantidad de simbolos distintos). Por ejemplo si SF = 5 ,} hay   2^5 = 32$ \n",
    "$\\text{simbolos posibles.}$ \n",
    "\n",
    "$\\text{Una vez obtenido el vector W(nTs), se utiliza la formula planteada en el paper para sumar los valores ponderados de los bits del}$ $\\text{vector w(nTs) y así generar el valor decimal entero S(nTs). Este numero se utiliza para decidir con que frecuencia inicial el chirp la trasmición.}$\n",
    "\n",
    "$\\text{Supongamos que el ancho de banda del canal que usamos para la transmisión es } B \\text{ y que transmitimos  } $\n",
    "$ \\text {una muestra cada T, con } T = \\frac{1}{B}$\n",
    "\n",
    "\n",
    "\n",
    "$\\text{Un símbolo } s(nT_s) \\text{ es enviado a la entrada del modulador cada } T_s = 2^{SF} \\cdot T$\n",
    "\n",
    "$\\text{El símbolo } s(nT_s) \\text{ es un número real que se forma usando un vector } w(nT_s) \\text{ de dígitos binarios SF, con SF como un parámetro entero }$\n",
    "\n",
    "$\\text{ llamado Factor de Expansión, el cual normalmente toma valores en } \\{7,8,9,10,11,12\\}$\n",
    "\n",
    "$\\text{SF(Spreading Factor) es el número de bits que se agrupan en cada símbolo. Cada número representa un entero entre } 0 \\quad y \\quad 2^{SF} - 1 \\text{ y representa cuanto se \"esparce\" la señal en el tiempo y determina la cantidad de simbolos que se pueden transmitir  }$\n",
    "\n"
   ]
  },
  {
   "cell_type": "markdown",
   "id": "b5eaf08c",
   "metadata": {},
   "source": [
    "$\\text{Codificación de bists a símbolo}$\n",
    "    "
   ]
  },
  {
   "cell_type": "markdown",
   "id": "f33e127e",
   "metadata": {},
   "source": [
    "$\\text{Implementación en python}$"
   ]
  },
  {
   "cell_type": "markdown",
   "id": "9652cd32",
   "metadata": {},
   "source": [
    "<text>La función bits_to_symbols: Agrupa un arreglo plano de bits en bloques de longitud igual al Spreading Factor (SF) y \n",
    "\n",
    "convierte cada bloque en un número decimal. Este paso simula lo que en el paper se describe como la generación del símbolo\n",
    " \n",
    "𝑠(𝑛𝑇𝑠) a partir del vector de bits 𝑤(𝑛𝑇𝑠)"
   ]
  },
  {
   "cell_type": "code",
   "execution_count": null,
   "id": "e43616cc",
   "metadata": {},
   "outputs": [],
   "source": [
    "import random\n",
    "import numpy as np\n",
    "\n",
    "def bits_to_symbols(bit_array, SF):\n",
    "    \"\"\"Agrupa los bits en bloques de SF y los convierte en símbolos enteros.\"\"\"\n",
    "    bit_array = np.array(bit_array).reshape(-1, SF)\n",
    "    powers = 2 ** np.arange(SF)[::-1]\n",
    "    symbols = bit_array.dot(powers)\n",
    "    return symbols"
   ]
  },
  {
   "cell_type": "markdown",
   "id": "962eec88",
   "metadata": {},
   "source": [
    "<text>La funcion symbols to bits: Invierte el proceso anterior: toma una lista de símbolos y los convierte en sus \n",
    "correspondientes representaciones binarias de SF bits. Esto emula la decodificación, recuperando el vector 𝑤(𝑛𝑇𝑠) desde el número 𝑠(𝑛𝑇𝑠)."
   ]
  },
  {
   "cell_type": "code",
   "execution_count": null,
   "id": "0e4d0721",
   "metadata": {},
   "outputs": [],
   "source": [
    "def symbols_to_bits(symbols, SF):\n",
    "    \"\"\"Convierte los símbolos de vuelta a su representación binaria.\"\"\"\n",
    "    bits = ((symbols[:, None] & (1 << np.arange(SF)[::-1])) > 0).astype(int)\n",
    "    return bits.reshape(-1)"
   ]
  },
  {
   "cell_type": "markdown",
   "id": "9db2cc5e",
   "metadata": {},
   "source": [
    "<text>  La funcion simulate_encoder_decoder: Es el núcleo de la simulación. \n",
    "\n",
    "1~ Genera bits aleatorios con una distribución uniforme entre 0 y 1 usando np.random.randint.\n",
    "\n",
    "2~ Codifica: convierte esos bits en símbolos utilizando bits_to_symbols.\n",
    "\n",
    "3~ Simula la transmisión: en este primer modelo, la transmisión es perfecta. Es decir, los símbolos recibidos son iguales a los transmitidos (sin errores de canal, por ahora).\n",
    "\n",
    "4~ Decodifica: recupera los bits originales desde los símbolos usando symbols_to_bits.\n",
    "\n",
    "5~ Calcula el BER: compara los bits transmitidos vs. los recibidos para calcular la tasa de error de bit (Bit Error Rate).\n",
    "\n",
    "6~ Imprime resultados: muestra los primeros 64 bits transmitidos y decodificados, junto con el BER final y estadísticas generales."
   ]
  },
  {
   "cell_type": "code",
   "execution_count": null,
   "id": "bb738c74",
   "metadata": {},
   "outputs": [],
   "source": [
    "def simulate_encoder_decoder(SF, total_bits):\n",
    "    \"\"\"Genera bits aleatorios, codifica, decodifica y calcula el BER.\"\"\"\n",
    "    assert total_bits % SF == 0, \"El número total de bits debe ser múltiplo de SF\"\n",
    "\n",
    "    # Generar bits aleatorios con distribución uniforme\n",
    "    tx_bits = np.random.randint(0, 2, total_bits)\n",
    "\n",
    "    # Codificación\n",
    "    tx_symbols = bits_to_symbols(tx_bits, SF)\n",
    "\n",
    "    # Transmisión simulada perfecta (sin ruido)\n",
    "    rx_symbols = tx_symbols.copy()  # En canal real, se podría agregar ruido o errores\n",
    "\n",
    "    # Decodificación\n",
    "    rx_bits = symbols_to_bits(rx_symbols, SF)\n",
    "\n",
    "    # Cálculo de BER\n",
    "    bit_errors = np.sum(tx_bits != rx_bits)\n",
    "    ber = bit_errors / total_bits\n",
    "\n",
    "    # Resultados\n",
    "    print(\"Bits transmitidos (primeros 64):  \", tx_bits[:64])\n",
    "    print(\"Bits decodificados (primeros 64):\", rx_bits[:64])\n",
    "    print(f\"\\nTotal de bits transmitidos: {total_bits}\")\n",
    "    print(f\"Errores totales: {bit_errors}\")\n",
    "    print(f\"BER (Bit Error Rate): {ber:.6f}\")\n",
    "\n",
    "# Parámetros de simulación\n",
    "SF = 7  # Spreading Factor\n",
    "num_bits = SF * 1000  # Enviar 1000 símbolos\n",
    "\n",
    "simulate_encoder_decoder(SF, num_bits)"
   ]
  }
 ],
 "metadata": {
  "kernelspec": {
   "display_name": "Python 3",
   "language": "python",
   "name": "python3"
  },
  "language_info": {
   "name": "python",
   "version": "3.12.1"
  }
 },
 "nbformat": 4,
 "nbformat_minor": 5
}
