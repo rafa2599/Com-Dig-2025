{
 "cells": [
  {
   "cell_type": "markdown",
   "id": "69d94db4",
   "metadata": {},
   "source": [
    "$$\n",
    "\\begin{array}{c}\n",
    "\\LARGE \\textbf{Trabajo\\ Final\\ de\\ Comunicaciones\\ Digitales}\n",
    "\\end{array}\n",
    "$$"
   ]
  },
  {
   "cell_type": "markdown",
   "id": "2e7e4c2c",
   "metadata": {},
   "source": [
    "$$\n",
    "\\begin{aligned}\n",
    "&\\textbf{Introducción}\n",
    "\\end{aligned}\n",
    "$$"
   ]
  },
  {
   "cell_type": "markdown",
   "id": "534889d4",
   "metadata": {},
   "source": []
  },
  {
   "cell_type": "markdown",
   "id": "8b8f7393",
   "metadata": {},
   "source": [
    "$$\n",
    "\\begin{aligned}\n",
    "&\\textbf{Marco teórico}\n",
    "\\end{aligned}\n",
    "$$"
   ]
  },
  {
   "cell_type": "markdown",
   "id": "5a9a4e4c",
   "metadata": {},
   "source": [
    "$$\n",
    "\\begin{aligned}\n",
    "&\\textbf{} \\\\\n",
    "&\\text{El auge del Internet de las Cosas (IoT) ha impulsado el desarrollo de tecnologías de comunicación de} \\\\\n",
    "&\\text{bajo consumo y largo alcance, conocidas como Low Power Wide Area Networks (LPWAN). Dentro de este} \\\\\n",
    "&\\text{marco, LoRa (Long Range) es el estándar que se ha consolidado como una tecnología ideal para la} \\\\\n",
    "&\\text{comunicación inalámbrica de largo alcance y bajo consumo energético.} \\\\[1em]\n",
    "&\\text{En este sentido, el artículo propuesto por la cátedra introduce una formulación matemática para la} \\\\\n",
    "&\\text{modulación LoRa, la cual puede describirse como una modulación chirp con desplazamiento de frecuencia} \\\\\n",
    "&\\text{(Frequency Shift Chirp Modulation, FSCM).Esta técnica se basa en la codificación de bits en símbolos} \\\\\n",
    "&\\text{ enteros y en la generación de señales chirp cuya frecuencia depende de dichos símbolos.} \\\\\n",
    "&\\text{Además, en esta formulación, la información está codificada en el desplazamiento inicial de frecuencia } \\\\\n",
    "&\\text{del chirp,y no depende de la pendiente ni en la duración de la señal.Este enfoque permite definir una base } \\\\\n",
    "&\\text{ortogonal de señales discretas, lo que favorece una demodulación eficiente mediante la Transformada Rápida de}\\\\\n",
    "&\\text{Fourier (FFT).}\\\\\n",
    "\\end{aligned}\n",
    "$$"
   ]
  },
  {
   "cell_type": "markdown",
   "id": "9d4ca8f9",
   "metadata": {},
   "source": [
    "$$\n",
    "\\begin{aligned}\n",
    "&\\textbf{Desarrollo}\n",
    "\\end{aligned}\n",
    "$$"
   ]
  },
  {
   "cell_type": "markdown",
   "id": "c166d6a5",
   "metadata": {},
   "source": [
    "$$\n",
    " \\begin{aligned}\n",
    " &\\text{Este proceso de codificación, tal como se describe matemáticamente en el artículo, puede descomponerse en varias} \\\\\n",
    " &\\text{etapas fundamentales. La primera de ellas es el mapeo de bits a un símbolo decimal, y comienza con un vector} \\\\\n",
    " &\\text{ $w(nT_s)$ compuesto por una cantidad fija de bits determinada por el parámetro Spreading Factor (SF).} \\\\\n",
    " &\\text{Este factor representa la cantidad de  bits por símbolo y se define como: } \\\\[1em]\n",
    " \n",
    " &\\hspace{8cm} SF = \\log_2(M) \\\\[1em]\n",
    " &\\text{Donde $M$ es la cantidad total de símbolos posibles (cardinalidad de la modulación). Por ejemplo,} \\\\\n",
    " &\\text{si $SF = 5$, existen $2^5 = 32$ símbolos distintos.} \\\\\n",
    " &\\text{El valor decimal resultante de este mapeo, denotado como $s(nT_s)$, se obtiene al sumar los valores ponderados} \\\\\n",
    " &\\text{de los bits del vector $w(nT_s)$. Este número representa directamente la frecuencia inicial desde la cual se} \\\\\n",
    " &\\text{genera la señal chirp para su transmisión.} \\\\[1em]\n",
    " &\\textbf{Fórmula de codificación:} \\\\[1em]\n",
    " &\\hspace{8cm} s(nT_s) = \\sum_{h=0}^{SF-1} w_h(nT_s) \\cdot 2^h \\\\[1em]\n",
    " &\\text{donde:} \\\\\n",
    " &\\hspace{1cm} ~ s(nT_s) \\in \\{0, ..., 2^{SF} - 1\\} \\text{ es el símbolo codificado} \\\\\n",
    " &\\hspace{1cm} ~ w_h(nT_s) \\in \\{0,1\\} \\text{ son los bits del bloque actual, ordenados desde el LSB} \\\\\n",
    " &\\hspace{1cm} ~ SF \\text{ es el Spreading Factor (cantidad de bits por símbolo)} \\\\\n",
    " &\\hspace{1cm} ~ h \\text{ es el índice del bit dentro del bloque} \\\\[1em]\n",
    " &\\textbf{Parámetros de transmisión:} \\\\[1em]\n",
    " &\\text{Supongamos que el ancho de banda del canal utilizado es $B$, lo que implica que transmitimos una muestra cada:} \\\\[1em]\n",
    " &\\hspace{10cm} T = \\frac{1}{B} \\\\[1em]\n",
    " &\\text{Un símbolo $s(nT_s)$ se transmite cada:} \\\\[1em]\n",
    " &\\hspace{10cm} T_s = 2^{SF} \\cdot T \\\\[1em]\n",
    " &\\text{Cada símbolo representa un número entero entre $0$ y $2^{SF} - 1$. Esto no solo determina la frecuencia} \\\\\n",
    " &\\text{con la que inicia el chirp, sino también cuán \"extendida\" estará la señal en el tiempo. A mayor $SF$,} \\\\\n",
    " &\\text{mayor será la duración del símbolo y mayor la resistencia al ruido, a costa de menor tasa de transmisión.} \\\\[1em]\n",
    " &\\text{Por otro lado, el decodificador es el componente encargado de inferir el mensaje original a partir de la señal   recibida.} \\\\\n",
    " &\\text{En un canal aditivo de ruido blanco gaussiano (AWGN), la estrategia óptima es la de Máxima Verosimilitud (ML).} \\\\\n",
    " &\\text{Esta consiste en proyectar la señal recibida sobre todas las señales base posibles y elegir aquella cuya proyección} \\\\\n",
    " &\\text{maximice la expresión:} \\\\[1em]\n",
    " &\\hspace{10cm} \\max_{c} \\left| \\langle y, c \\rangle \\right| \\\\[1em]\n",
    " &\\text{Donde $c$ es una señal candidata y $y$ es la señal observada. Gracias a la ortogonalidad de las señales en FSCM,} \\\\\n",
    " &\\text{esta proyección puede implementarse eficientemente con una FFT.}\n",
    " \\end{aligned}\n",
    " $$"
   ]
  },
  {
   "cell_type": "markdown",
   "id": "61f8bafd",
   "metadata": {},
   "source": [
    "$$\n",
    "\\begin{aligned}\n",
    "&\\textbf{Implementación en Python}\n",
    "\\end{aligned}\n",
    "$$"
   ]
  },
  {
   "cell_type": "markdown",
   "id": "fbe5dad6",
   "metadata": {},
   "source": [
    "$$\n",
    "\\begin{aligned}\n",
    "&\\text{La función } \\texttt{bits\\_to\\_symbols}: \\text{ Agrupa un arreglo plano de bits en bloques de longitud igual al} \\\\\n",
    "&\\text{Spreading Factor (SF) y convierte cada bloque en un número decimal. Este paso simula lo que en el paper} \\\\\n",
    "&\\text{se describe como la generación del símbolo } s(nT_s) \\text{ a partir del vector de bits } w(nT_s).\n",
    "\\end{aligned}\n",
    "$$"
   ]
  },
  {
   "cell_type": "code",
   "execution_count": null,
   "id": "3caf72d7",
   "metadata": {},
   "outputs": [],
   "source": [
    "import numpy as np\n",
    "\n",
    "def bits_to_symbols(bit_array, SF):\n",
    "    \"\"\"\n",
    "    Agrupa bits en bloques de tamaño SF y convierte cada grupo en un símbolo decimal.\n",
    "    \"\"\"\n",
    "    if len(bit_array) % SF != 0:\n",
    "        raise ValueError(f\"Número de bits ({len(bit_array)}) no divisible por el SF ({SF})\")\n",
    "\n",
    "    # Convertir a array de NumPy y reorganizar en filas de SF bits\n",
    "    bloques = np.array(bit_array).reshape(-1, SF)\n",
    "\n",
    "    # Calculamos los pesos binarios desde el bit más significativo al menos\n",
    "    pesos = [2**i for i in range(SF - 1, -1, -1)]\n",
    "\n",
    "    # Multiplicamos cada grupo por los pesos y sumamos para obtener los símbolos\n",
    "    symbols = []\n",
    "    for grupo in bloques:\n",
    "        decimal = sum(b * p for b, p in zip(grupo, pesos))\n",
    "        symbols.append(decimal)\n",
    "\n",
    "    return symbols\n",
    "\n"
   ]
  },
  {
   "cell_type": "code",
   "execution_count": null,
   "id": "eb8e8b3a",
   "metadata": {},
   "outputs": [],
   "source": [
    "def symbols_to_bits(symbols, SF):\n",
    "    \"\"\"Convierte los símbolos de vuelta a su representación binaria.\"\"\"\n",
    "      #Para cada símbolo, aplica una máscara binaria para extraer los bits (de mayor a menor).\n",
    "    bits = ((symbols[:, None] & (1 << np.arange(SF)[::-1])) > 0).astype(int)\n",
    "    #Devuelve los bits reordenados en una sola dimensión.\n",
    "    return bits.reshape(-1)"
   ]
  },
  {
   "cell_type": "markdown",
   "id": "0617efef",
   "metadata": {},
   "source": []
  },
  {
   "cell_type": "code",
   "execution_count": 10,
   "id": "2f23ad78",
   "metadata": {},
   "outputs": [
    {
     "name": "stdout",
     "output_type": "stream",
     "text": [
      "Bits transmitidos (primeros 64):   [0 1 0 0 1 0 1 1 1 1 0 1 0 1 1 0 0 1 0 0 1 0 1 1 1 0 1 1 0 0 0 0 0 1 0 0 0\n",
      " 0 1 0 0 0 0 0 0 1 0 0 0 1 1 1 0 1 0 0 0 0 1 1 1 0 0 1]\n",
      "Bits decodificados (primeros 64): [0 1 0 0 1 0 1 1 1 1 0 1 0 1 1 0 0 1 0 0 1 0 1 1 1 0 1 1 0 0 0 0 0 1 0 0 0\n",
      " 0 1 0 0 0 0 0 0 1 0 0 0 1 1 1 0 1 0 0 0 0 1 1 1 0 0 1]\n",
      "\n",
      "Total de bits transmitidos: 7000\n",
      "Errores totales: 0\n",
      "BER (Bit Error Rate): 0.000000\n"
     ]
    }
   ],
   "source": [
    "def simulate_encoder_decoder(SF, total_bits):\n",
    "    \"\"\"Genera bits aleatorios, codifica, decodifica y calcula el BER.\"\"\"\n",
    "    assert total_bits % SF == 0, \"El número total de bits debe ser múltiplo de SF\"\n",
    "\n",
    "    # Generar bits aleatorios con distribución uniforme\n",
    "    tx_bits = np.random.randint(0, 2, total_bits)\n",
    "\n",
    "    # Codificación\n",
    "    tx_symbols = bits_to_symbols(tx_bits, SF)\n",
    "\n",
    "    # Transmisión simulada perfecta (sin ruido)\n",
    "    rx_symbols = tx_symbols.copy()  # En canal real, se podría agregar ruido o errores\n",
    "\n",
    "    # Decodificación\n",
    "    rx_bits = symbols_to_bits(rx_symbols, SF)\n",
    "\n",
    "    # Cálculo de BER\n",
    "    bit_errors = np.sum(tx_bits != rx_bits)\n",
    "    ber = bit_errors / total_bits\n",
    "\n",
    "    # Resultados\n",
    "    print(\"Bits transmitidos (primeros 64):  \", tx_bits[:64])\n",
    "    print(\"Bits decodificados (primeros 64):\", rx_bits[:64])\n",
    "    print(f\"\\nTotal de bits transmitidos: {total_bits}\")\n",
    "    print(f\"Errores totales: {bit_errors}\")\n",
    "    print(f\"BER (Bit Error Rate): {ber:.6f}\")\n",
    "\n",
    "# Parámetros de simulación\n",
    "SF = 7  # Spreading Factor\n",
    "num_bits = SF * 1000  # Enviar 1000 símbolos\n",
    "\n",
    "simulate_encoder_decoder(SF, num_bits)"
   ]
  },
  {
   "cell_type": "markdown",
   "id": "f8fc38e2",
   "metadata": {},
   "source": [
    "$$\n",
    "\\begin{aligned}\n",
    "&\\text{La segunda etapa consiste en generar la forma de onda a transmitir a partir del numero decimal entero } s(nT_s), \\\\\n",
    "&\\text{esta onda se denomina chirp, donde el termino S(nTs) indica la frecuencia inicial a partir de la cual dicha señal} \\\\\n",
    "&\\text{comienza a transmitir los símbolos codificados.}\n",
    "\\end{aligned}\n",
    "$$"
   ]
  },
  {
   "cell_type": "markdown",
   "id": "9d55be57",
   "metadata": {},
   "source": [
    "$$\n",
    "\\begin{aligned}\n",
    "&\\textbf{Forma de onda modulada por FSCM:} \\\\[1em]\n",
    "&\\hspace{5cm} c(nT_s + kT) = \\frac{1}{\\sqrt{2^{SF}}} \\cdot e^{j2\\pi[(s(nT_s)+k) \\bmod 2^{SF}]\\frac{kT}{B}} \\quad (2) \\\\[1em]\n",
    "&\\text{Si reformulamos la ecuación 2,  usando la relación: } T = \\frac{1}{B} \\\\\n",
    "&\\text{\\hspace{0.5cm} Sabemos que: } T = \\frac{1}{B} \\Longrightarrow \\quad T \\cdot B = 1  \\\\\n",
    "&\\text{\\hspace{0.5cm} Entonces: } kT \\cdot B = k \\\\\n",
    "&\\text{\\hspace{0.5cm} Sustituyendo en la ecuación } (2): \\text{damos origen a la ecuación } (3)  \\\\\n",
    "&\\hspace{5cm} c(nT_s + kT) = \\frac{1}{\\sqrt{2^{SF}}} \\cdot e^{j2\\pi[(s(nT_s)+k) \\bmod 2^{SF}] \\cdot \\frac{k}{2^{SF}}} (3) \\\\[1em]\n",
    "\n",
    "\n",
    "&\\text{donde:} \\\\\n",
    "&\\hspace{1cm} c(nT_s + kT) \\text{ es la señal chirp modulada en el tiempo } nT_s + kT \\\\\n",
    "&\\hspace{1cm} \\frac{1}{\\sqrt{2^{SF}}} \\text{ es el factor de normalización de energía (asegura energía unitaria para cada símbolo)} \\\\\n",
    "&\\hspace{1cm} s(nT_s) \\text{ es el símbolo codificado (de la Ecuación 1)} \\\\\n",
    "&\\hspace{1cm} k \\text{ es el índice de muestra dentro del símbolo } (k = 0, 1, ..., 2^{SF}-1) \\\\\n",
    "&\\hspace{1cm} T \\text{ es el período de muestreo} \\\\\n",
    "&\\hspace{1cm} B \\text{ es el ancho de banda del canal} \\\\\n",
    "&\\hspace{1cm} \\bmod 2^{SF} \\text{ indica la operación módulo } 2^{SF} \\\\[2em]\n",
    "\n",
    "&\\text{La ecuación } (2)\\quad y\\quad (3) \\text{ del paper define la forma de onda transmitida por el modulador FSCM, donde cada} \\\\\n",
    "&\\text{ símbolo} s(nT_s) \\in {0,1,...,2^SF} \\text{codifica SF bits binarios} \\\\\n",
    "\n",
    "&\\textbf{Características principales:} \\\\[1em]\n",
    "&\\text{1. Chirp complejo: La señal tiene frecuencia linealmente creciente dentro de cada símbolo} \\\\\n",
    "&\\text{2. Frecuencia instantánea: Depende de } (s(nT_s)+k) \\bmod 2^{SF}, \\text{ que representa un corrimiento de frecuencia} \\\\\n",
    "&\\text{\\hspace{0.5cm} específico para cada símbolo y hace que la frecuencia aumente de manera lineal en el tiempo } \\\\\n",
    "&\\text{3. Ortogonalidad: Los diferentes símbolos generan chirps ortogonales entre sí, facilitando la decodificación} \\\\\n",
    "&\\text{4. Normalización: El factor } \\frac{1}{\\sqrt{2^{SF}}} \\text{ mantiene la energía constante por símbolo} \\\\ \n",
    "&\\text{\\hspace{0.5cm}es el proceso mediante el cual una señal se escala para que su energía total sea igual a 1 } \\\\\n",
    "&\\text{\\hspace{0.5cm} Esto permite: comparar distintas señales de forma justa, controlar la energía o potencia  } \\\\\n",
    "&\\text{\\hspace{0.5cm} promedio transmitida y aplicar citerios óptimos  } (como\\quad detección\\quad ML) \\text{ sin sesgos por amplitud} \\\\\n",
    "&\\text{a. Esto asegura que todos los símbolos tengan energía unitaria, lo que es necesario para el análisis óptimo en  }  \\\\\n",
    "&\\text{\\hspace{0.5cm} presencia de ruido blanco  } (AWGN) \\\\\n",
    "&\\textbf{Ventajas:} \\\\[1em]\n",
    "&\\text{1. Robustez en canales selectivos: propiedad de una modulación que permite mantener baja tasa de error en } \\\\\n",
    "&\\text{\\hspace{0.5cm} presencia de canales con respuesta en frecuencia no plana, es decir, donde ciertas subbandas del } \\\\\n",
    "&\\text{\\hspace{0.5cm} espectro sufren atenuación significativa. } \\\\\n",
    "&\\text{2. Demodulación eficiente: implementación del proceso de detección óptima con complejidad computacional reducida, } \\\\\n",
    "&\\text{\\hspace{0.5cm} frecuentemente lograda mediante rápidas (FFT), evitando correlaciones directas sobre una base completa de señales } \\\\\n",
    "\n",
    "&\\textbf{Resumen:} \\\\[1em]\n",
    "&\\text{Modela cada símbolo como un chirp complejo que varía su frecuencia en el tiempo con una pendiente fija, pero que} \\\\\n",
    "&\\text{\\hspace{0.5cm} comienza en una frecuencia inicial diferente para cada símbolo. Esto hace que los símbolos sean  } \\\\\n",
    "&\\text{\\hspace{0.5cm} ortogonales, tengan la misma energía y puedan demodularse de forma eficiente usando una FFT} \\\\\n",
    "\\end{aligned}\n",
    "$$"
   ]
  },
  {
   "cell_type": "markdown",
   "id": "c209873e",
   "metadata": {},
   "source": [
    "$$\n",
    "\\begin{aligned}\n",
    "&\\text{A partir de la ecuación (3), se plantea la ecuación que describe la señal recibida por el receptor, luego de que la señal modulada} \\\\\n",
    "& c(nT_s + kT)\\text{ se ha transmito a través de un AWGN(Additive White Gaussian Noise ) }  \\\\\n",
    "&\\text{donde se parte de la suposición de que las señales son de igual energía y con una sincronización perfecta} \\\\\n",
    "&\\text{en tiempo y frecuencia; así como también una fuente que emite símbolos con la misma probabilidad.} \\\\[1em]\n",
    "&\\hspace{5cm} r(nT_s + kT) = c(nT_s + kT) + w(nT_s + kT) \\\\[1em]\n",
    "&\\text{donde:} \\\\\n",
    "&\\hspace{1cm} c(nT_s + kT): \\text{ la chirp transmitida para el símbolo } s(nT_s) \\\\\n",
    "&\\hspace{1cm} w(nT_s + kT): \\text{ ruido blanco gaussiano} \\\\\n",
    "&\\hspace{1cm} r: \\text{ señal recibida}\n",
    "\\end{aligned}\n",
    "$$"
   ]
  },
  {
   "cell_type": "markdown",
   "id": "8f24d495",
   "metadata": {},
   "source": [
    "$$\n",
    "\\begin{aligned}\n",
    "&\\text{Luego de definir la forma de onda transmitida } c(nT_s + kT) \\text{asociada a un símbolo } s(nT_s), \\\\\n",
    "&\\text{ como una secuencia chirp ortogonalizada y normalizada (Ecuación 3). Se analiza la ortogonalidad entre las} \\\\\n",
    "&\\text{las diferentes formas de onda posible para distintos símbolos:} \\\\\n",
    "&\\text{\\hspace{0.5cm} Es decir, si } s_1 \\neq  s_2, \\text{ entonces los chirp asociados deben ser ortogonales}\\\\\n",
    "&\\text{\\hspace{0.5cm} Esto se demuestra en las ecuaciones (4) a (9) del paper [1], culminando en:} \\\\\n",
    "&\\hspace{5cm} \\langle c_i, c_j \\rangle = 0 \\quad \\text{para } i \\neq j\\\\[1em]\n",
    "&\\text{\\hspace{0.5cm} propiedad clave para poder realizar detección óptima en presencia de ruido. } \\\\\n",
    "\n",
    "\\end{aligned}\n",
    "$$"
   ]
  },
  {
   "cell_type": "markdown",
   "id": "58f25600",
   "metadata": {},
   "source": [
    "\n",
    "\\begin{aligned}\n",
    "&\\text{En consecuencia, se plantea la ecuación que describe la señal recibida por el receptor óptimo para la} \\\\\n",
    "&\\text{modulación utilizada, proceso que culmina en la detección óptima en presencia de ruido blanco (AWGN),} \\\\\n",
    "&\\text{y en la implementación eficiente mediante el \\emph{n-tuple former}.} \\\\\n",
    "&\\text{Este planteo parte de la suposición de que las señales poseen igual energía, con sincronización perfecta} \\\\\n",
    "&\\text{en tiempo y frecuencia, así como también una fuente que emite símbolos con igual probabilidad.} \\\\[1em]\n",
    "&\\hspace{5cm} r(nT_s + kT) = c(nT_s + kT) + w(nT_s + kT)  (10)\\\\[1em]\n",
    "&\\text{donde:} \\\\\n",
    "&\\hspace{1cm} c(nT_s + kT): \\text{ chirp transmitida para el símbolo } s(nT_s), \\\\\n",
    "&\\hspace{1cm} w(nT_s + kT): \\text{ ruido blanco gaussiano complejo de media cero y varianza constante}, \\\\\n",
    "&\\hspace{1cm} r(nT_s + kT): \\text{ señal recibida en el instante discreto } k.\n",
    "\\end{aligned}\n",
    "\n"
   ]
  },
  {
   "cell_type": "markdown",
   "id": "0ff978e2",
   "metadata": {},
   "source": [
    "$$\n",
    "\\begin{aligned}\n",
    "&\\textbf{Procedimiento de detección óptima:} \\\\[1em]\n",
    "&\\text{Donde el desarrollo teórico implica el producto interno entre la señal recibida y cada base } c_q  \\\\\n",
    "&\\text{y la simplificación usando propiedades del chirp y del módulo, hasta llegar a una expresión que permite }  \\\\\n",
    "&\\text{una implementación ediciete mediante una FFT } \\\\\n",
    "&\\text{1.Producto interno entre la señal recibida }r(nT_s + kT)\\text{ y cada una de las formas de onda base} c(nT_s+ kT) \\\\\n",
    "&\\text{\\hspace{0.5cm} Matemáticamente: } \\\\\n",
    "&\\hspace{1cm} \\langle r(nT_s + kT), c(nT_s + kT)|_{s(nT_s) = q} \\rangle = \\sum_{k=0}^{2^{SF}-1} r(nT_s + kT) \\cdot c^*(nT_s + kT)|_{s(nT_s) = q} \\quad (11) \\\\\n",
    "&\\text{\\hspace{0.5cm} El valor indica cuánto se parece la señal recibida a cada una de las señales base posible.El } \\\\\n",
    "&\\text{\\hspace{0.5cm} índice q que da el máximo módulo se toma como símbolo detectado  }  \\\\\n",
    "&\\text{La proyección puede simplificarse utilizando la función  } \\varphi(q,k) \\text{ tal como se define en las ecuaciones}\\\\\n",
    "&\\text{ (12) a (15) de [1]}  \\\\\n",
    "\n",
    "\n",
    "\\end{aligned}\n",
    "$$"
   ]
  },
  {
   "cell_type": "markdown",
   "id": "6cfe6eeb",
   "metadata": {},
   "source": [
    "$$\n",
    "\\begin{aligned}\n",
    "&\\textbf{n-Tuple Former} \\\\[1em]\n",
    "&\\text{El n-Tuple Former es un procedimiento computacional eficiente que implementa la detección óptima} \\\\\n",
    "&\\text{de símbolos en la modulación Frequency Shift Chirp Modulation (FSCM). Su función es determinar} \\\\\n",
    "&\\text{cuál de los } 2^{SF} \\text{ posibles símbolos fue transmitido, sin necesidad de realizar correlaciones} \\\\\n",
    "&\\text{directas con cada forma de onda base. Para ello, transforma la señal recibida mediante la} \\\\\n",
    "&\\text{multiplicación con una función conjugada (down-chirp), seguida de una Transformada Discreta} \\\\\n",
    "&\\text{de Fourier (DFT). El índice de la máxima magnitud del espectro resultante corresponde al} \\\\\n",
    "&\\text{símbolo transmitido. Este proceso reemplaza a la correlación exhaustiva y permite recuperar} \\\\\n",
    "&\\text{directamente la n-tupla binaria original asociada al símbolo, de manera eficiente.}\n",
    "\n",
    "\\end{aligned}"
   ]
  },
  {
   "cell_type": "markdown",
   "id": "06224d19",
   "metadata": {},
   "source": [
    "$$\n",
    "\\begin{aligned}\n",
    "&\\textbf{Pasos:} \\\\[1em]\n",
    "&\\text{1. Multiplicación por down chirp} \\\\\n",
    "&\\text{\\hspace{0.5cm} a. Partiendo de la ecuación (10), se multiplica cada muestra de la señal recibida por un down-chirp conjugado:} \\\\\n",
    "&\\hspace{1.5cm} d(nT_s + kT) = r(nT_s + kT) \\cdot e^{-j2\\pi \\frac{k^2}{2^{SF}}} \\\\\n",
    "&\\text{\\hspace{0.5cm} elimina la componente cuadrática del chirp} \\\\[1em]\n",
    "&\\text{2. Aplicación de la DFT (vía FFT) sobre el vector } d(nT_s + kT), \\text{ lo que equivale a proyectar sobre cada una} \\\\\n",
    "&\\text{\\hspace{0.5cm} de las formas de onda base:} \\\\\n",
    "&\\hspace{1.5cm} \\langle r, c|_p \\rangle = \\sum_{k=0}^{2^{SF}-1} d(nT_s + kT) \\cdot e^{-j2\\pi \\frac{pk}{2^{SF}}} \\quad (16) \\\\[1em]\n",
    "\n",
    "&\\text{A partir de las ecuaciones (11) a (16) del paper [1], esta proyección puede expresarse de forma expandida como:} \\\\[0.5em]\n",
    "&\\hspace{1.5cm} \\sum_{k=0}^{2^{SF}-1} \n",
    "\\underbrace{r(nT_s + kT) \\cdot e^{-j2\\pi \\frac{k^2}{2^{SF}}}}_{\\text{down-chirp: } d(nT_s + kT)}\n",
    "\\cdot \\frac{1}{\\sqrt{2^{SF}}} \\cdot e^{-j2\\pi \\frac{p \\cdot k}{2^{SF}}} \\\\[1em]\n",
    "\n",
    "\n",
    "&\\text{Esta expresión refleja la multiplicación por el down-chirp conjugado y posterior proyección mediante una DFT,} \\\\\n",
    "&\\text{lo que permite una detección óptima con baja complejidad computacional.}\n",
    "\n",
    "\n",
    "\\end{aligned}\n",
    "$$\n"
   ]
  },
  {
   "cell_type": "markdown",
   "id": "d78a4dc9",
   "metadata": {},
   "source": [
    "\n",
    "$$\n",
    "\\begin{aligned}\n",
    "&\\text{3. Decisión:} \\\\\n",
    "&\\text{\\hspace{0.5cm} El índice } p \\text{ que maximiza el módulo de esta proyección es el símbolo detectado.} \\\\\n",
    "&\\text{\\hspace{0.5cm} Como } p \\in \\{0, 1, ..., 2^{SF}-1\\}, \\text{ puede representarse directamente como una tupla de } SF \\text{ bits.}\\\\\n",
    "\\end{aligned}\n",
    "$$"
   ]
  },
  {
   "cell_type": "markdown",
   "id": "0ad3984e",
   "metadata": {},
   "source": [
    "$$\n",
    "= \\sum_{k=0}^{2^{SF}-1} \n",
    "\\underbrace{r(nT_s + kT) \\cdot e^{-j2\\pi \\frac{k^2}{2^{SF}}}}_{d(nT_s + kT)}\n",
    "\\cdot \\frac{1}{\\sqrt{2^{SF}}} e^{-j2\\pi p_k \\frac{1}{2^{SF}}}\n",
    "$$"
   ]
  },
  {
   "cell_type": "markdown",
   "id": "de39544c",
   "metadata": {},
   "source": [
    "$$\n",
    "\\begin{aligned}\n",
    "&\\textbf{Implementación en Python}\n",
    "\\end{aligned}\n",
    "$$"
   ]
  },
  {
   "cell_type": "code",
   "execution_count": null,
   "id": "e6bdc4a1",
   "metadata": {},
   "outputs": [],
   "source": [
    "\"\"\"\n",
    "Lógica del algoritmo:\n",
    "\n",
    "1. Un bloque de SF bits se convierte en un símbolo decimal s ∈ [0, 2^SF - 1].\n",
    "\n",
    "2. Para cada símbolo s, se genera una forma de onda c[k] = (1/√2^SF) * exp(j2π * ((s + k) mod 2^SF) * k / 2^SF)\n",
    "   — esta es la chirp modulada, definida en la ecuación (2) del paper.\n",
    "\n",
    "3. La señal transmitida se reconstruye concatenando todas las chirps.\n",
    "\n",
    "4. En el receptor (sin canal ruidoso), la señal recibida r[k] es igual a la transmitida.\n",
    "\n",
    "5. Para detectar cada símbolo:\n",
    "   a) Se extrae la chirp r_s de longitud 2^SF.\n",
    "   b) Se multiplica por una chirp conjugada descendente: exp(-j2π k^2 / 2^SF).\n",
    "   c) Se aplica una FFT al resultado.\n",
    "   d) El índice donde la magnitud es máxima corresponde al símbolo estimado.\n",
    "\n",
    "6. Se calcula el SER: proporción de símbolos decodificados incorrectamente.\n",
    "\"\"\""
   ]
  },
  {
   "cell_type": "code",
   "execution_count": null,
   "id": "221cde19",
   "metadata": {},
   "outputs": [],
   "source": [
    "import numpy as np\n",
    "\n",
    "def bits_to_symbols(bit_array, SF):\n",
    "    #Convierte la lista de bits en un array NumPy y lo reestructura para que cada fila tenga SF bits.\n",
    "    bit_array = np.array(bit_array).reshape(-1, SF)\n",
    "    #Crea un array con los pesos binarios, de más significativo a menos (ej: [128, 64, ..., 1] si SF=8).\n",
    "    powers = 2 ** np.arange(SF)[::-1]\n",
    "    #Calcula el valor decimal del símbolo multiplicando bits × pesos binarios.\n",
    "    symbols = bit_array.dot(powers)\n",
    "    return symbols"
   ]
  },
  {
   "cell_type": "code",
   "execution_count": null,
   "id": "e59a20ba",
   "metadata": {},
   "outputs": [],
   "source": [
    "def symbols_to_bits(symbols, SF):\n",
    "    #Para cada símbolo, aplica una máscara binaria para extraer los bits (de mayor a menor).\n",
    "    bits = ((symbols[:, None] & (1 << np.arange(SF)[::-1])) > 0).astype(int)\n",
    "    #Devuelve los bits reordenados en una sola dimensión.\n",
    "    return bits.reshape(-1)"
   ]
  },
  {
   "cell_type": "code",
   "execution_count": null,
   "id": "44279679",
   "metadata": {},
   "outputs": [],
   "source": [
    "def generate_chirp(symbol, SF):\n",
    "    #Calcula el número total de muestras por chirp.\n",
    "    N = 2 ** SF\n",
    "    # Define un vector con índices de tiempo 𝑘=0,1...,𝑁−1\n",
    "    k = np.arange(N)\n",
    "    #Calcula la fase de la chirp con desplazamiento según el símbolo\n",
    "    phase = ((symbol + k) % N) * k\n",
    "    #Devuelve la chirp normalizada (compleja), de fase cuadrática.\n",
    "    return np.exp(1j * 2 * np.pi * phase / N) / np.sqrt(N)\n"
   ]
  },
  {
   "cell_type": "code",
   "execution_count": null,
   "id": "872cb068",
   "metadata": {},
   "outputs": [],
   "source": [
    "\n",
    "def waveform_former(symbols, SF):\n",
    "    #Para cada símbolo, genera su chirp y los une todos en una sola señal transmitida.\n",
    "    return np.concatenate([generate_chirp(s, SF) for s in symbols])"
   ]
  },
  {
   "cell_type": "code",
   "execution_count": null,
   "id": "dc55421c",
   "metadata": {},
   "outputs": [],
   "source": [
    "def n_tuple_former(received_signal, SF):\n",
    "    #Determina la cantidad de muestras por chirp (N) y cuántos símbolos hay en total.\n",
    "    N = 2 ** SF\n",
    "    num_symbols = received_signal.shape[0] // N\n",
    "    k = np.arange(N)\n",
    "    down_chirp = np.exp(-1j * 2 * np.pi * k**2 / N)\n",
    "\n",
    "    detected_symbols = []\n",
    "    for i in range(num_symbols):\n",
    "        r_chunk = received_signal[i*N:(i+1)*N]\n",
    "        mixed = r_chunk * down_chirp\n",
    "        spectrum = np.fft.fft(mixed)\n",
    "        detected_symbols.append(np.argmax(np.abs(spectrum)))\n",
    "\n",
    "    return np.array(detected_symbols)"
   ]
  },
  {
   "cell_type": "code",
   "execution_count": 21,
   "id": "54162797",
   "metadata": {},
   "outputs": [
    {
     "name": "stdout",
     "output_type": "stream",
     "text": [
      "Símbolos transmitidos (primeros 16):  [ 22 113  26  87  34  19 119  49   1  52  41  15  21  28   7 101]\n",
      "Símbolos recibidos (primeros 16):     [ 22 113  26  87  34  19 119  49   1  52  41  15  21  28   7 101]\n",
      "\n",
      "Total de símbolos: 1000\n",
      "Símbolos erróneos: 0\n",
      "SER (Symbol Error Rate): 0.000000\n"
     ]
    }
   ],
   "source": [
    "\n",
    "def simulate_lora_transceiver(SF, total_bits):\n",
    "    assert total_bits % SF == 0, \"El número total de bits debe ser múltiplo de SF\"\n",
    "    N = 2 ** SF\n",
    "\n",
    "    # Entrada: generación de bits\n",
    "    tx_bits = np.random.randint(0, 2, total_bits)\n",
    "    tx_symbols = bits_to_symbols(tx_bits, SF)\n",
    "\n",
    "    # Waveform Former: generar señal transmitida\n",
    "    tx_signal = waveform_former(tx_symbols, SF)\n",
    "\n",
    "    # Canal ideal\n",
    "    rx_signal = tx_signal.copy()\n",
    "\n",
    "    # n-Tuple Former: demodulación\n",
    "    rx_symbols = n_tuple_former(rx_signal, SF)\n",
    "    rx_bits = symbols_to_bits(rx_symbols, SF)\n",
    "\n",
    "    # SER y resultado\n",
    "    symbol_errors = np.sum(tx_symbols != rx_symbols)\n",
    "    ser = symbol_errors / len(tx_symbols)\n",
    "\n",
    "    print(\"Símbolos transmitidos (primeros 16): \", tx_symbols[:16])\n",
    "    print(\"Símbolos recibidos (primeros 16):    \", rx_symbols[:16])\n",
    "    print(f\"\\nTotal de símbolos: {len(tx_symbols)}\")\n",
    "    print(f\"Símbolos erróneos: {symbol_errors}\")\n",
    "    print(f\"SER (Symbol Error Rate): {ser:.6f}\")\n",
    "\n",
    "# Ejecutar simulación\n",
    "SF = 7\n",
    "num_bits = 1000 * SF\n",
    "simulate_lora_transceiver(SF, num_bits)"
   ]
  }
 ],
 "metadata": {
  "kernelspec": {
   "display_name": "Python 3",
   "language": "python",
   "name": "python3"
  },
  "language_info": {
   "codemirror_mode": {
    "name": "ipython",
    "version": 3
   },
   "file_extension": ".py",
   "mimetype": "text/x-python",
   "name": "python",
   "nbconvert_exporter": "python",
   "pygments_lexer": "ipython3",
   "version": "3.11.9"
  }
 },
 "nbformat": 4,
 "nbformat_minor": 5
}
