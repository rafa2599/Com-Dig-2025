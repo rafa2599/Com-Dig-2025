{
 "cells": [
  {
   "cell_type": "markdown",
   "id": "69d94db4",
   "metadata": {},
   "source": [
    "$$\n",
    "\\begin{array}{c}\n",
    "\\LARGE \\textbf{Trabajo\\ Final\\ de\\ Comunicaciones\\ Digitales}\n",
    "\\end{array}\n",
    "$$"
   ]
  },
  {
   "cell_type": "markdown",
   "id": "5a9a4e4c",
   "metadata": {},
   "source": [
    "$$\n",
    "\\begin{aligned}\n",
    "&\\textbf{Marco Teórico} \\\\[1em]\n",
    "&\\text{El auge del Internet de las Cosas (IoT) ha impulsado el desarrollo de tecnologías} \\\\\n",
    "&\\text{de comunicación de bajo consumo y largo alcance, conocidas como Low Power Wide} \\\\\n",
    "&\\text{Area Networks (LPWAN). Dentro de este marco, LoRa (Long Range) es el estándar} \\\\\n",
    "&\\text{que se ha consolidado como una tecnología ideal para la comunicación inalámbrica} \\\\\n",
    "&\\text{de largo alcance y bajo consumo energético.} \\\\[1em]\n",
    "&\\text{En este sentido, el artículo propuesto por la cátedra introduce una formulación} \\\\\n",
    "&\\text{matemática para la modulación LoRa, la cual puede describirse como una modulación} \\\\\n",
    "&\\text{chirp con desplazamiento de frecuencia (Frequency Shift Chirp Modulation, FSCM).} \\\\\n",
    "&\\text{Esta técnica se basa en la codificación de bits en símbolos enteros y en la generación} \\\\\n",
    "&\\text{de señales chirp cuya frecuencia depende de dichos símbolos. Además, en esta formulación,} \\\\\n",
    "&\\text{la información está codificada en el desplazamiento inicial de frecuencia del chirp,} \\\\\n",
    "&\\text{y no depende de la pendiente ni en la duración de la señal.} \\\\[1em]\n",
    "&\\text{Este enfoque permite definir una base ortogonal de señales discretas, lo que favorece} \\\\\n",
    "&\\text{una demodulación eficiente mediante la Transformada Rápida de Fourier (FFT).}\n",
    "\\end{aligned}\n",
    "$$"
   ]
  },
  {
   "cell_type": "markdown",
   "id": "c166d6a5",
   "metadata": {},
   "source": [
    "$$\n",
    "\\begin{aligned}\n",
    "&\\textbf{Desarrollo} \\\\[1em]\n",
    "&\\text{Este proceso de codificación, tal como se describe matemáticamente en el artículo, puede} \\\\\n",
    "&\\text{descomponerse en tres etapas fundamentales. La primera de ellas es el mapeo de bits a un} \\\\\n",
    "&\\text{símbolo decimal, y comienza con un vector $w(nT_s)$ compuesto por una cantidad fija de bits} \\\\\n",
    "&\\text{determinada por el parámetro Spreading Factor (SF). Este factor representa la cantidad de } \\\\\n",
    "&\\text{ bits por símbolo y se define como:} \\\\[1em]\n",
    "&\\hspace{2cm} SF = \\log_2(M) \\\\[1em]\n",
    "&\\text{Donde $M$ es la cantidad total de símbolos posibles (cardinalidad de la modulación). Por ejemplo,} \\\\\n",
    "&\\text{si $SF = 5$, existen $2^5 = 32$ símbolos distintos.} \\\\\n",
    "&\\text{El valor decimal resultante de este mapeo, denotado como $s(nT_s)$, se obtiene al sumar los valores} \\\\\n",
    "&\\text{ponderados de los bits del vector $w(nT_s)$. Este número representa directamente la frecuencia inicial} \\\\\n",
    "&\\text{desde la cual se genera la señal chirp para su transmisión.} \\\\[1em]\n",
    "&\\textbf{Fórmula de codificación:} \\\\[1em]\n",
    "&\\hspace{2cm} s(nT_s) = \\sum_{h=0}^{SF-1} w_h(nT_s) \\cdot 2^h \\\\[1em]\n",
    "&\\text{donde:} \\\\\n",
    "&\\hspace{1cm} ~ s(nT_s) \\in \\{0, ..., 2^{SF} - 1\\} \\text{ es el símbolo codificado} \\\\\n",
    "&\\hspace{1cm} ~ w_h(nT_s) \\in \\{0,1\\} \\text{ son los bits del bloque actual, ordenados desde el LSB} \\\\\n",
    "&\\hspace{1cm} ~ SF \\text{ es el Spreading Factor (cantidad de bits por símbolo)} \\\\\n",
    "&\\hspace{1cm} ~ h \\text{ es el índice del bit dentro del bloque} \\\\[1em]\n",
    "&\\textbf{Parámetros de transmisión:} \\\\[1em]\n",
    "&\\text{Supongamos que el ancho de banda del canal utilizado es $B$, lo que implica que transmitimos una muestra cada:} \\\\\n",
    "&\\hspace{2cm} T = \\frac{1}{B} \\\\[1em]\n",
    "&\\text{Un símbolo $s(nT_s)$ se transmite cada:} \\\\\n",
    "&\\hspace{2cm} T_s = 2^{SF} \\cdot T \\\\[1em]\n",
    "&\\text{Cada símbolo representa un número entero entre $0$ y $2^{SF} - 1$. Esto no solo determina la frecuencia} \\\\\n",
    "&\\text{con la que inicia el chirp, sino también cuán \"extendida\" estará la señal en el tiempo. A mayor $SF$,} \\\\\n",
    "&\\text{mayor será la duración del símbolo y mayor la resistencia al ruido, a costa de menor tasa de transmisión.} \\\\[1em]\n",
    "&\\text{Por otro lado, el decodificador es el componente encargado de inferir el mensaje original a partir de la señal recibida.} \\\\\n",
    "&\\text{En un canal aditivo de ruido blanco gaussiano (AWGN), la estrategia óptima es la de Máxima Verosimilitud (ML).} \\\\\n",
    "&\\text{Esta consiste en proyectar la señal recibida sobre todas las señales base posibles y elegir aquella cuya proyección} \\\\\n",
    "&\\text{maximice la expresión:} \\\\[1em]\n",
    "&\\hspace{2cm} \\max_{c} \\left| \\langle y, c \\rangle \\right| \\\\[1em]\n",
    "&\\text{Donde $c$ es una señal candidata y $y$ es la señal observada. Gracias a la ortogonalidad de las señales en FSCM,} \\\\\n",
    "&\\text{esta proyección puede implementarse eficientemente con una FFT.}\n",
    "\\end{aligned}\n",
    "$$"
   ]
  },
  {
   "cell_type": "markdown",
   "id": "61f8bafd",
   "metadata": {},
   "source": [
    "$$\n",
    "\\begin{aligned}\n",
    "&\\textbf{Implementación en Python}\n",
    "\\end{aligned}\n",
    "$$"
   ]
  },
  {
   "cell_type": "markdown",
   "id": "fbe5dad6",
   "metadata": {},
   "source": []
  },
  {
   "cell_type": "code",
   "execution_count": null,
   "id": "3caf72d7",
   "metadata": {},
   "outputs": [],
   "source": [
    "import numpy as np\n",
    "\n",
    "def bits_to_symbols(bit_array, SF):\n",
    "    \"\"\"Agrupa los bits en bloques de SF y los convierte en símbolos enteros.\"\"\"\n",
    "    bit_array = np.array(bit_array).reshape(-1, SF)\n",
    "    powers = 2 ** np.arange(SF)[::-1]\n",
    "    symbols = bit_array.dot(powers)\n",
    "    return symbols"
   ]
  },
  {
   "cell_type": "markdown",
   "id": "20f0872d",
   "metadata": {},
   "source": []
  },
  {
   "cell_type": "code",
   "execution_count": null,
   "id": "eb8e8b3a",
   "metadata": {},
   "outputs": [],
   "source": [
    "def symbols_to_bits(symbols, SF):\n",
    "    \"\"\"Convierte los símbolos de vuelta a su representación binaria.\"\"\"\n",
    "    bits = ((symbols[:, None] & (1 << np.arange(SF)[::-1])) > 0).astype(int)\n",
    "    return bits.reshape(-1)"
   ]
  },
  {
   "cell_type": "markdown",
   "id": "0617efef",
   "metadata": {},
   "source": []
  },
  {
   "cell_type": "code",
   "execution_count": null,
   "id": "2f23ad78",
   "metadata": {},
   "outputs": [],
   "source": [
    "def simulate_encoder_decoder(SF, total_bits):\n",
    "    \"\"\"Genera bits aleatorios, codifica, decodifica y calcula el BER.\"\"\"\n",
    "    assert total_bits % SF == 0, \"El número total de bits debe ser múltiplo de SF\"\n",
    "\n",
    "    # Generar bits aleatorios con distribución uniforme\n",
    "    tx_bits = np.random.randint(0, 2, total_bits)\n",
    "\n",
    "    # Codificación\n",
    "    tx_symbols = bits_to_symbols(tx_bits, SF)\n",
    "\n",
    "    # Transmisión simulada perfecta (sin ruido)\n",
    "    rx_symbols = tx_symbols.copy()  # En canal real, se podría agregar ruido o errores\n",
    "\n",
    "    # Decodificación\n",
    "    rx_bits = symbols_to_bits(rx_symbols, SF)\n",
    "\n",
    "    # Cálculo de BER\n",
    "    bit_errors = np.sum(tx_bits != rx_bits)\n",
    "    ber = bit_errors / total_bits\n",
    "\n",
    "    # Resultados\n",
    "    print(\"Bits transmitidos (primeros 64):  \", tx_bits[:64])\n",
    "    print(\"Bits decodificados (primeros 64):\", rx_bits[:64])\n",
    "    print(f\"\\nTotal de bits transmitidos: {total_bits}\")\n",
    "    print(f\"Errores totales: {bit_errors}\")\n",
    "    print(f\"BER (Bit Error Rate): {ber:.6f}\")\n",
    "\n",
    "# Parámetros de simulación\n",
    "SF = 7  # Spreading Factor\n",
    "num_bits = SF * 1000  # Enviar 1000 símbolos\n",
    "\n",
    "simulate_encoder_decoder(SF, num_bits)"
   ]
  },
  {
   "cell_type": "markdown",
   "id": "15e336f9",
   "metadata": {},
   "source": []
  },
  {
   "cell_type": "markdown",
   "id": "869cb87f",
   "metadata": {},
   "source": [
    "## Ecuación 2 y 3: Modulación Chirp \n",
    "\n",
    "**Ecuación 2 (forma general):**\n",
    "\n",
    "$$c(nT_s + kT) = \\frac{1}{\\sqrt{2^{SF}}} \\cdot e^{j2\\pi[(s(nT_s)+k) \\bmod 2^{SF}]\\frac{kT}{B}} \\quad (2)$$\n",
    "\n",
    "donde:\n",
    "- $c(nT_s + kT)$ es la señal chirp modulada en el tiempo $nT_s + kT$\n",
    "- $\\frac{1}{\\sqrt{2^{SF}}}$ es el factor de normalización de energía (asegura energía unitaria para cada símbolo)\n",
    "- $s(nT_s)$ es el símbolo codificado (de la Ecuación 1)\n",
    "- $k$ es el índice de muestra dentro del símbolo ($k = 0, 1, ..., 2^{SF}-1$)\n",
    "- $T$ es el período de muestreo\n",
    "- $B$ es el ancho de banda del canal\n",
    "- $\\bmod 2^{SF}$ indica la operación módulo $2^{SF}$\n",
    "\n",
    "### Características principales:\n",
    "\n",
    "1. **Chirp complejo**: La señal tiene frecuencia linealmente creciente dentro de cada símbolo\n",
    "2. **Frecuencia instantánea**: Depende de $(s(nT_s)+k) \\bmod 2^{SF}$, que representa un corrimiento de frecuencia específico para cada símbolo\n",
    "3. **Ortogonalidad**: Los diferentes símbolos generan chirps ortogonales entre sí, facilitando la decodificación\n",
    "4. **Normalización**: El factor $\\frac{1}{\\sqrt{2^{SF}}}$ mantiene la energía constante por símbolo\n",
    "\n",
    "\n",
    "  \n",
    "**Ecuación 3 (forma simplifca:**)\n",
    "\n",
    "\n",
    "Dado que $T = \\frac{1}{B}$, se reemplaza por $T \\cdot B = 1$, simplificando la ecuación:\n",
    "\n",
    "$$c(nT_s + kT) = \\frac{1}{\\sqrt{2^{SF}}} \\cdot e^{j2\\pi \\cdot \\frac{[(s(nT_s)+k) \\bmod 2^{SF}] \\cdot k}{2^{SF}}} \\quad (3)$$\n",
    "\n",
    "**Pasos** \n",
    "\n",
    "1. Definiciíon del tiempo discreto:  \n",
    "\n",
    "Teniendo en cuento lo definido más arriba: \n",
    " \n",
    "$$t = nT_s + kT = n \\cdot 2^ SF \\cdot T + kT$$\n",
    "\n",
    "2. Codificar la frecuencia en el chirp: \n",
    "\n",
    "La modulacíon LoRa usa un chirp de frecuencia creciente, donde la frecuencia instantánea varía linealmente con k, y \n",
    "se desplaza según el valor del símbolo $$s(nT_s)$$ \n",
    "$$\\frac{[(s+k) \\bmod 2^{SF}] \\cdot k}{2^{SF}}$$\n",
    "\n",
    "\n",
    "3. Fase acumulada y señal compleja \n",
    "\n",
    "$$e^{j2\\pi \\cdot \\frac{[(s+k) \\bmod 2^{SF}] \\cdot k}{2^{SF}}}$$\n",
    "\n",
    "Representa una señal compleja cuya fase cambia con el tiempo (índice k).Esa fase varía en funcíon del símbolo transmitido s y de la muestra actual k. \n",
    "Como resultado, se genera una onda chirp (señal cuya frecuencia aumenta linealmente con k ). Esto se logra porque la fase del exponente crece de forma cuadrática con k, algo característico de un chirp lineal. \n",
    "El desplazamiento s hace que cada símbolo comience su chirp en una frecuencia distinta, lo que permite codificar la información.\n",
    "\n",
    "4. Normalizacíon de energía \n",
    "\n",
    "El factor $\\frac{1}{\\sqrt{2^{SF}}}$ normaliza la señal para que tenga energía unitaria. "
   ]
  },
  {
   "cell_type": "markdown",
   "id": "f33e127e",
   "metadata": {},
   "source": [
    "$\\text{Implementación en python}$"
   ]
  },
  {
   "cell_type": "markdown",
   "id": "9652cd32",
   "metadata": {},
   "source": [
    "<text>La función bits_to_symbols: Agrupa un arreglo plano de bits en bloques de longitud igual al Spreading Factor (SF) y \n",
    "\n",
    "convierte cada bloque en un número decimal. Este paso simula lo que en el paper se describe como la generación del símbolo\n",
    " \n",
    "𝑠(𝑛𝑇𝑠) a partir del vector de bits 𝑤(𝑛𝑇𝑠)"
   ]
  },
  {
   "cell_type": "code",
   "execution_count": null,
   "id": "e43616cc",
   "metadata": {},
   "outputs": [],
   "source": [
    "import random\n",
    "import numpy as np\n",
    "\n",
    "def bits_to_symbols(bit_array, SF):\n",
    "    \"\"\"Agrupa los bits"
   ]
  }
 ],
 "metadata": {
  "kernelspec": {
   "display_name": "Python 3",
   "language": "python",
   "name": "python3"
  },
  "language_info": {
   "name": "python",
   "version": "3.12.1"
  }
 },
 "nbformat": 4,
 "nbformat_minor": 5
}
