{
 "cells": [
  {
   "cell_type": "markdown",
   "id": "69d94db4",
   "metadata": {},
   "source": [
    "$$\n",
    "\\begin{array}{c}\n",
    "\\LARGE \\textbf{Trabajo\\ Final\\ de\\ Comunicaciones\\ Digitales}\n",
    "\\end{array}\n",
    "$$"
   ]
  },
  {
   "cell_type": "markdown",
   "id": "2e7e4c2c",
   "metadata": {},
   "source": [
    "$$\n",
    "\\begin{aligned}\n",
    "&\\textbf{Introducción}\n",
    "\\end{aligned}\n",
    "$$"
   ]
  },
  {
   "cell_type": "markdown",
   "id": "534889d4",
   "metadata": {},
   "source": []
  },
  {
   "cell_type": "markdown",
   "id": "8b8f7393",
   "metadata": {},
   "source": [
    "$$\n",
    "\\begin{aligned}\n",
    "&\\textbf{Marco teórico}\n",
    "\\end{aligned}\n",
    "$$"
   ]
  },
  {
   "cell_type": "markdown",
   "id": "5a9a4e4c",
   "metadata": {},
   "source": [
    "$$\n",
    "\\begin{aligned}\n",
    "&\\textbf{} \\\\\n",
    "&\\text{El auge del Internet de las Cosas (IoT) ha impulsado el desarrollo de tecnologías de comunicación de} \\\\\n",
    "&\\text{bajo consumo y largo alcance, conocidas como Low Power Wide Area Networks (LPWAN). Dentro de este} \\\\\n",
    "&\\text{marco, LoRa (Long Range) es el estándar que se ha consolidado como una tecnología ideal para la} \\\\\n",
    "&\\text{comunicación inalámbrica de largo alcance y bajo consumo energético.} \\\\[1em]\n",
    "&\\text{En este sentido, el artículo propuesto por la cátedra introduce una formulación matemática para la} \\\\\n",
    "&\\text{modulación LoRa, la cual puede describirse como una modulación chirp con desplazamiento de frecuencia} \\\\\n",
    "&\\text{(Frequency Shift Chirp Modulation, FSCM).Esta técnica se basa en la codificación de bits en símbolos} \\\\\n",
    "&\\text{ enteros y en la generación de señales chirp cuya frecuencia depende de dichos símbolos.} \\\\\n",
    "&\\text{Además, en esta formulación, la información está codificada en el desplazamiento inicial de frecuencia } \\\\\n",
    "&\\text{del chirp,y no depende de la pendiente ni en la duración de la señal.Este enfoque permite definir una base } \\\\\n",
    "&\\text{ortogonal de señales discretas, lo que favorece una demodulación eficiente mediante la Transformada Rápida de}\\\\\n",
    "&\\text{Fourier (FFT).}\\\\\n",
    "\\end{aligned}\n",
    "$$"
   ]
  },
  {
   "cell_type": "markdown",
   "id": "9d4ca8f9",
   "metadata": {},
   "source": [
    "$$\n",
    "\\begin{aligned}\n",
    "&\\textbf{Desarrollo}\n",
    "\\end{aligned}\n",
    "$$"
   ]
  },
  {
   "cell_type": "markdown",
   "id": "c166d6a5",
   "metadata": {},
   "source": [
    "$$\n",
    " \\begin{aligned}\n",
    " &\\text{Este proceso de codificación, tal como se describe matemáticamente en el artículo, puede descomponerse en varias} \\\\\n",
    " &\\text{etapas fundamentales. La primera de ellas es el mapeo de bits a un símbolo decimal, y comienza con un vector} \\\\\n",
    " &\\text{ $w(nT_s)$ compuesto por una cantidad fija de bits determinada por el parámetro Spreading Factor (SF).} \\\\\n",
    " &\\text{Este factor representa la cantidad de  bits por símbolo y se define como: } \\\\[1em]\n",
    " \n",
    " &\\hspace{8cm} SF = \\log_2(M) \\\\[1em]\n",
    " &\\text{Donde $M$ es la cantidad total de símbolos posibles (cardinalidad de la modulación). Por ejemplo,} \\\\\n",
    " &\\text{si $SF = 5$, existen $2^5 = 32$ símbolos distintos.} \\\\\n",
    " &\\text{El valor decimal resultante de este mapeo, denotado como $s(nT_s)$, se obtiene al sumar los valores ponderados} \\\\\n",
    " &\\text{de los bits del vector $w(nT_s)$. Este número representa directamente la frecuencia inicial desde la cual se} \\\\\n",
    " &\\text{genera la señal chirp para su transmisión.} \\\\[1em]\n",
    " &\\textbf{Fórmula de codificación:} \\\\[1em]\n",
    " &\\hspace{8cm} s(nT_s) = \\sum_{h=0}^{SF-1} w_h(nT_s) \\cdot 2^h \\\\[1em]\n",
    " &\\text{donde:} \\\\\n",
    " &\\hspace{1cm} ~ s(nT_s) \\in \\{0, ..., 2^{SF} - 1\\} \\text{ es el símbolo codificado} \\\\\n",
    " &\\hspace{1cm} ~ w_h(nT_s) \\in \\{0,1\\} \\text{ son los bits del bloque actual, ordenados desde el LSB} \\\\\n",
    " &\\hspace{1cm} ~ SF \\text{ es el Spreading Factor (cantidad de bits por símbolo)} \\\\\n",
    " &\\hspace{1cm} ~ h \\text{ es el índice del bit dentro del bloque} \\\\[1em]\n",
    " &\\textbf{Parámetros de transmisión:} \\\\[1em]\n",
    " &\\text{Supongamos que el ancho de banda del canal utilizado es $B$, lo que implica que transmitimos una muestra cada:} \\\\[1em]\n",
    " &\\hspace{10cm} T = \\frac{1}{B} \\\\[1em]\n",
    " &\\text{Un símbolo $s(nT_s)$ se transmite cada:} \\\\[1em]\n",
    " &\\hspace{10cm} T_s = 2^{SF} \\cdot T \\\\[1em]\n",
    " &\\text{Cada símbolo representa un número entero entre $0$ y $2^{SF} - 1$. Esto no solo determina la frecuencia} \\\\\n",
    " &\\text{con la que inicia el chirp, sino también cuán \"extendida\" estará la señal en el tiempo. A mayor $SF$,} \\\\\n",
    " &\\text{mayor será la duración del símbolo y mayor la resistencia al ruido, a costa de menor tasa de transmisión.} \\\\[1em]\n",
    " &\\text{Por otro lado, el decodificador es el componente encargado de inferir el mensaje original a partir de la señal   recibida.} \\\\\n",
    " &\\text{En un canal aditivo de ruido blanco gaussiano (AWGN), la estrategia óptima es la de Máxima Verosimilitud (ML).} \\\\\n",
    " &\\text{Esta consiste en proyectar la señal recibida sobre todas las señales base posibles y elegir aquella cuya proyección} \\\\\n",
    " &\\text{maximice la expresión:} \\\\[1em]\n",
    " &\\hspace{10cm} \\max_{c} \\left| \\langle y, c \\rangle \\right| \\\\[1em]\n",
    " &\\text{Donde $c$ es una señal candidata y $y$ es la señal observada. Gracias a la ortogonalidad de las señales en FSCM,} \\\\\n",
    " &\\text{esta proyección puede implementarse eficientemente con una FFT.}\n",
    " \\end{aligned}\n",
    " $$"
   ]
  },
  {
   "cell_type": "markdown",
   "id": "61f8bafd",
   "metadata": {},
   "source": [
    "$$\n",
    "\\begin{aligned}\n",
    "&\\textbf{Implementación en Python}\n",
    "\\end{aligned}\n",
    "$$"
   ]
  },
  {
   "cell_type": "markdown",
   "id": "fbe5dad6",
   "metadata": {},
   "source": [
    "$$\n",
    "\\begin{aligned}\n",
    "&\\text{La función } \\texttt{bits\\_to\\_symbols}: \\text{ Agrupa un arreglo plano de bits en bloques de longitud igual al} \\\\\n",
    "&\\text{Spreading Factor (SF) y convierte cada bloque en un número decimal. Este paso simula lo que en el paper} \\\\\n",
    "&\\text{se describe como la generación del símbolo } s(nT_s) \\text{ a partir del vector de bits } w(nT_s).\n",
    "\\end{aligned}\n",
    "$$"
   ]
  },
  {
   "cell_type": "code",
   "execution_count": 8,
   "id": "3caf72d7",
   "metadata": {},
   "outputs": [],
   "source": [
    "import numpy as np\n",
    "\n",
    "def bits_to_symbols(bit_array, SF):\n",
    "    \"\"\"Agrupa los bits en bloques de SF y los convierte en símbolos enteros.\"\"\"\n",
    "    bit_array = np.array(bit_array).reshape(-1, SF)\n",
    "    powers = 2 ** np.arange(SF)[::-1]\n",
    "    symbols = bit_array.dot(powers)\n",
    "    return symbols"
   ]
  },
  {
   "cell_type": "markdown",
   "id": "20f0872d",
   "metadata": {},
   "source": []
  },
  {
   "cell_type": "code",
   "execution_count": 9,
   "id": "eb8e8b3a",
   "metadata": {},
   "outputs": [],
   "source": [
    "def symbols_to_bits(symbols, SF):\n",
    "    \"\"\"Convierte los símbolos de vuelta a su representación binaria.\"\"\"\n",
    "    bits = ((symbols[:, None] & (1 << np.arange(SF)[::-1])) > 0).astype(int)\n",
    "    return bits.reshape(-1)"
   ]
  },
  {
   "cell_type": "markdown",
   "id": "0617efef",
   "metadata": {},
   "source": []
  },
  {
   "cell_type": "code",
   "execution_count": 10,
   "id": "2f23ad78",
   "metadata": {},
   "outputs": [
    {
     "name": "stdout",
     "output_type": "stream",
     "text": [
      "Bits transmitidos (primeros 64):   [0 1 0 0 1 0 1 1 1 1 0 1 0 1 1 0 0 1 0 0 1 0 1 1 1 0 1 1 0 0 0 0 0 1 0 0 0\n",
      " 0 1 0 0 0 0 0 0 1 0 0 0 1 1 1 0 1 0 0 0 0 1 1 1 0 0 1]\n",
      "Bits decodificados (primeros 64): [0 1 0 0 1 0 1 1 1 1 0 1 0 1 1 0 0 1 0 0 1 0 1 1 1 0 1 1 0 0 0 0 0 1 0 0 0\n",
      " 0 1 0 0 0 0 0 0 1 0 0 0 1 1 1 0 1 0 0 0 0 1 1 1 0 0 1]\n",
      "\n",
      "Total de bits transmitidos: 7000\n",
      "Errores totales: 0\n",
      "BER (Bit Error Rate): 0.000000\n"
     ]
    }
   ],
   "source": [
    "def simulate_encoder_decoder(SF, total_bits):\n",
    "    \"\"\"Genera bits aleatorios, codifica, decodifica y calcula el BER.\"\"\"\n",
    "    assert total_bits % SF == 0, \"El número total de bits debe ser múltiplo de SF\"\n",
    "\n",
    "    # Generar bits aleatorios con distribución uniforme\n",
    "    tx_bits = np.random.randint(0, 2, total_bits)\n",
    "\n",
    "    # Codificación\n",
    "    tx_symbols = bits_to_symbols(tx_bits, SF)\n",
    "\n",
    "    # Transmisión simulada perfecta (sin ruido)\n",
    "    rx_symbols = tx_symbols.copy()  # En canal real, se podría agregar ruido o errores\n",
    "\n",
    "    # Decodificación\n",
    "    rx_bits = symbols_to_bits(rx_symbols, SF)\n",
    "\n",
    "    # Cálculo de BER\n",
    "    bit_errors = np.sum(tx_bits != rx_bits)\n",
    "    ber = bit_errors / total_bits\n",
    "\n",
    "    # Resultados\n",
    "    print(\"Bits transmitidos (primeros 64):  \", tx_bits[:64])\n",
    "    print(\"Bits decodificados (primeros 64):\", rx_bits[:64])\n",
    "    print(f\"\\nTotal de bits transmitidos: {total_bits}\")\n",
    "    print(f\"Errores totales: {bit_errors}\")\n",
    "    print(f\"BER (Bit Error Rate): {ber:.6f}\")\n",
    "\n",
    "# Parámetros de simulación\n",
    "SF = 7  # Spreading Factor\n",
    "num_bits = SF * 1000  # Enviar 1000 símbolos\n",
    "\n",
    "simulate_encoder_decoder(SF, num_bits)"
   ]
  },
  {
   "cell_type": "markdown",
   "id": "f8fc38e2",
   "metadata": {},
   "source": [
    "$$\n",
    "\\begin{aligned}\n",
    "&\\text{La segunda etapa consiste en generar la forma de onda a transmitir a partir del numero decimal entero } s(nT_s), \\\\\n",
    "&\\text{esta onda se denomina chirp, donde el termino S(nTs) indica la frecuencia inicial a partir de la cual dicha señal} \\\\\n",
    "&\\text{comienza a transmitir los símbolos codificados.}\n",
    "\\end{aligned}\n",
    "$$"
   ]
  },
  {
   "cell_type": "markdown",
   "id": "f6121886",
   "metadata": {},
   "source": [
    "$$\n",
    "\\begin{aligned}\n",
    "&\\textbf{Forma de onda modulada por FSCM:} \\\\[1em]\n",
    "&\\hspace{5cm} c(nT_s + kT) = \\frac{1}{\\sqrt{2^{SF}}} \\cdot e^{j2\\pi[(s(nT_s)+k) \\bmod 2^{SF}]\\frac{kT}{B}} \\quad (2) \\\\[1em]\n",
    "&\\text{donde:} \\\\\n",
    "&\\hspace{1cm} c(nT_s + kT) \\text{ es la señal chirp modulada en el tiempo } nT_s + kT \\\\\n",
    "&\\hspace{1cm} \\frac{1}{\\sqrt{2^{SF}}} \\text{ es el factor de normalización de energía (asegura energía unitaria para cada símbolo)} \\\\\n",
    "&\\hspace{1cm} s(nT_s) \\text{ es el símbolo codificado (de la Ecuación 1)} \\\\\n",
    "&\\hspace{1cm} k \\text{ es el índice de muestra dentro del símbolo } (k = 0, 1, ..., 2^{SF}-1) \\\\\n",
    "&\\hspace{1cm} T \\text{ es el período de muestreo} \\\\\n",
    "&\\hspace{1cm} B \\text{ es el ancho de banda del canal} \\\\\n",
    "&\\hspace{1cm} \\bmod 2^{SF} \\text{ indica la operación módulo } 2^{SF} \\\\[2em]\n",
    "&\\textbf{Características principales:} \\\\[1em]\n",
    "&\\text{1. Chirp complejo: La señal tiene frecuencia linealmente creciente dentro de cada símbolo} \\\\\n",
    "&\\text{2. Frecuencia instantánea: Depende de } (s(nT_s)+k) \\bmod 2^{SF}, \\text{ que representa un corrimiento de frecuencia} \\\\\n",
    "&\\text{\\hspace{0.5cm} específico para cada símbolo} \\\\\n",
    "&\\text{3. Ortogonalidad: Los diferentes símbolos generan chirps ortogonales entre sí, facilitando la decodificación} \\\\\n",
    "&\\text{4. Normalización: El factor } \\frac{1}{\\sqrt{2^{SF}}} \\text{ mantiene la energía constante por símbolo}\n",
    "&\\text{es el proceso mediante el cual una señal se escala para que su energía total sea igual a 1 } \\\\\n",
    "&\\text{Esto permite: comparar distintas señales de forma justa, controlaar la energía o potencia  } \\\\\n",
    "&\\text{promedio transmitida y aplicar citerios óptimos  }  \\text{ sin sesgos por amplitud (como  detección ML).} \\\\\n",
    "&\\text{Asegurando que todos los símbolos tengan energía unitaria, lo que es necesario para el análisis óptimo en  }  \\\\\n",
    "&\\text{presencia de ruido blanco  } (AWGN) \\\\\n",
    "&\\textbf{Ventajas:} \\\\[1em]\n",
    "&\\text{1. Robustez en canales selectivos: propiedad de una modulación que permite mantener baja tasa de error en } \\\\\n",
    "&\\text{\\hspace{0.5cm} presencia de canales con respuesta en frecuencia no plana, es decir, donde ciertas subbandas del } \\\\\n",
    "&\\text{\\hspace{0.5cm} espectro sufren atenuación significativa. } \\\\\n",
    "&\\text{2. Demodulación eficiente: implementación del proceso de detección óptima con complejidad computacional reducida, } \\\\\n",
    "&\\text{\\hspace{0.5cm} frecuentemente lograda mediante rápidas (FFT), evitando correlaciones directas sobre una base completa de señales } \\\\\n",
    "\\end{aligned}\n",
    "$$"
   ]
  },
  {
   "cell_type": "markdown",
   "id": "c209873e",
   "metadata": {},
   "source": [
    "$$\n",
    "\\begin{aligned}\n",
    "&\\text{A partir de esta señal, se plantea la ecuación que describe la señal recibida por el n\\text{-}tuple\\ former,} \\\\\n",
    "&\\text{donde se parte de la suposición de que las señales son de igual energía y con una sincronización perfecta} \\\\\n",
    "&\\text{en tiempo y frecuencia; así como también una fuente que emite símbolos con la misma probabilidad.} \\\\[1em]\n",
    "&\\hspace{5cm} r(nT_s + kT) = c(nT_s + kT) + w(nT_s + kT) \\\\[1em]\n",
    "&\\text{donde:} \\\\\n",
    "&\\hspace{1cm} c(nT_s + kT): \\text{ la chirp transmitida para el símbolo } s(nT_s) \\\\\n",
    "&\\hspace{1cm} w(nT_s + kT): \\text{ ruido blanco gaussiano} \\\\\n",
    "&\\hspace{1cm} r: \\text{ señal recibida}\n",
    "\\end{aligned}\n",
    "$$"
   ]
  },
  {
   "cell_type": "markdown",
   "id": "8dd6044a",
   "metadata": {},
   "source": [
    "$$\n",
    "\\begin{aligned}\n",
    "&\\text{Luego se pasa al proceso de demodulación, cuyo objetivo es la demodulación óptima de la señal.} \\\\\n",
    "&\\text{En este sentido, como el receptor no sabe cuál chirp } c(nT_s + kT) \\text{ fue transmitida, prueba con todas las posibles} \\\\\n",
    "&\\text{ } q = 0, \\ldots, 2^{SF}-1 \\text{ y calcula la \"proyección\" (o correlación) entre la señal recibida } r \\text{ y cada chirp candidata.} \\\\[1em]\n",
    "&\\text{Esto es:} \\\\[0.5em]\n",
    "&\\langle r, c_q \\rangle = \\sum_k r(nT_s + kT) \\cdot c_q^*(nT_s + kT) \\\\[1em]\n",
    "&\\text{Esto mide cuánto se parece la señal recibida a cada chirp posible. La mejor estimación es la que tenga el} \\\\\n",
    "&\\text{módulo cuadrado más alto de esta proyección:} \\\\[1em]\n",
    "&\\hat{s} = \\arg\\max_q \\left| \\langle r, c_q \\rangle \\right|^2 \\\\[1em]\n",
    "&\\text{De esta manera, el paper plantea una forma específica y computacionalmente optimizada de esa misma proyección.}\n",
    "\\end{aligned}\n",
    "$$"
   ]
  },
  {
   "cell_type": "markdown",
   "id": "0ad3984e",
   "metadata": {},
   "source": [
    "$$\n",
    "= \\sum_{k=0}^{2^{SF}-1} \n",
    "\\underbrace{r(nT_s + kT) \\cdot e^{-j2\\pi \\frac{k^2}{2^{SF}}}}_{d(nT_s + kT)}\n",
    "\\cdot \\frac{1}{\\sqrt{2^{SF}}} e^{-j2\\pi p_k \\frac{1}{2^{SF}}}\n",
    "$$"
   ]
  },
  {
   "cell_type": "markdown",
   "id": "de39544c",
   "metadata": {},
   "source": [
    "$$\n",
    "\\begin{aligned}\n",
    "&\\textbf{Implementación en Python}\n",
    "\\end{aligned}\n",
    "$$"
   ]
  },
  {
   "cell_type": "code",
   "execution_count": 16,
   "id": "221cde19",
   "metadata": {},
   "outputs": [],
   "source": [
    "import numpy as np\n",
    "\n",
    "def bits_to_symbols(bit_array, SF):\n",
    "    bit_array = np.array(bit_array).reshape(-1, SF)\n",
    "    powers = 2 ** np.arange(SF)[::-1]\n",
    "    symbols = bit_array.dot(powers)\n",
    "    return symbols"
   ]
  },
  {
   "cell_type": "code",
   "execution_count": 17,
   "id": "e59a20ba",
   "metadata": {},
   "outputs": [],
   "source": [
    "def symbols_to_bits(symbols, SF):\n",
    "    bits = ((symbols[:, None] & (1 << np.arange(SF)[::-1])) > 0).astype(int)\n",
    "    return bits.reshape(-1)"
   ]
  },
  {
   "cell_type": "code",
   "execution_count": 18,
   "id": "44279679",
   "metadata": {},
   "outputs": [],
   "source": [
    "def generate_chirp(symbol, SF):\n",
    "    N = 2 ** SF\n",
    "    k = np.arange(N)\n",
    "    phase = ((symbol + k) % N) * k\n",
    "    return np.exp(1j * 2 * np.pi * phase / N) / np.sqrt(N)\n"
   ]
  },
  {
   "cell_type": "code",
   "execution_count": 19,
   "id": "872cb068",
   "metadata": {},
   "outputs": [],
   "source": [
    "\n",
    "def waveform_former(symbols, SF):\n",
    "    return np.concatenate([generate_chirp(s, SF) for s in symbols])"
   ]
  },
  {
   "cell_type": "code",
   "execution_count": 20,
   "id": "dc55421c",
   "metadata": {},
   "outputs": [],
   "source": [
    "def n_tuple_former(received_signal, SF):\n",
    "    N = 2 ** SF\n",
    "    num_symbols = received_signal.shape[0] // N\n",
    "    k = np.arange(N)\n",
    "    down_chirp = np.exp(-1j * 2 * np.pi * k**2 / N)\n",
    "\n",
    "    detected_symbols = []\n",
    "    for i in range(num_symbols):\n",
    "        r_chunk = received_signal[i*N:(i+1)*N]\n",
    "        mixed = r_chunk * down_chirp\n",
    "        spectrum = np.fft.fft(mixed)\n",
    "        detected_symbols.append(np.argmax(np.abs(spectrum)))\n",
    "\n",
    "    return np.array(detected_symbols)"
   ]
  },
  {
   "cell_type": "code",
   "execution_count": 21,
   "id": "54162797",
   "metadata": {},
   "outputs": [
    {
     "name": "stdout",
     "output_type": "stream",
     "text": [
      "Símbolos transmitidos (primeros 16):  [ 22 113  26  87  34  19 119  49   1  52  41  15  21  28   7 101]\n",
      "Símbolos recibidos (primeros 16):     [ 22 113  26  87  34  19 119  49   1  52  41  15  21  28   7 101]\n",
      "\n",
      "Total de símbolos: 1000\n",
      "Símbolos erróneos: 0\n",
      "SER (Symbol Error Rate): 0.000000\n"
     ]
    }
   ],
   "source": [
    "\n",
    "def simulate_lora_transceiver(SF, total_bits):\n",
    "    assert total_bits % SF == 0, \"El número total de bits debe ser múltiplo de SF\"\n",
    "    N = 2 ** SF\n",
    "\n",
    "    # Entrada: generación de bits\n",
    "    tx_bits = np.random.randint(0, 2, total_bits)\n",
    "    tx_symbols = bits_to_symbols(tx_bits, SF)\n",
    "\n",
    "    # Waveform Former: generar señal transmitida\n",
    "    tx_signal = waveform_former(tx_symbols, SF)\n",
    "\n",
    "    # Canal ideal\n",
    "    rx_signal = tx_signal.copy()\n",
    "\n",
    "    # n-Tuple Former: demodulación\n",
    "    rx_symbols = n_tuple_former(rx_signal, SF)\n",
    "    rx_bits = symbols_to_bits(rx_symbols, SF)\n",
    "\n",
    "    # SER y resultado\n",
    "    symbol_errors = np.sum(tx_symbols != rx_symbols)\n",
    "    ser = symbol_errors / len(tx_symbols)\n",
    "\n",
    "    print(\"Símbolos transmitidos (primeros 16): \", tx_symbols[:16])\n",
    "    print(\"Símbolos recibidos (primeros 16):    \", rx_symbols[:16])\n",
    "    print(f\"\\nTotal de símbolos: {len(tx_symbols)}\")\n",
    "    print(f\"Símbolos erróneos: {symbol_errors}\")\n",
    "    print(f\"SER (Symbol Error Rate): {ser:.6f}\")\n",
    "\n",
    "# Ejecutar simulación\n",
    "SF = 7\n",
    "num_bits = 1000 * SF\n",
    "simulate_lora_transceiver(SF, num_bits)"
   ]
  },
  {
   "cell_type": "markdown",
   "id": "018af97e",
   "metadata": {},
   "source": [
    "### Referencias \n",
    "[1] L. Vangelista, \"Frequency Shift Chirp Modulation: The LoRa Modulation,\" in *IEEE Signal Processing Letters*, vol. 24, no. 12, pp. 1818–1822, Dec. 2017. doi: 10.1109/LSP.2017.2762960\n"
   ]
  }
 ],
 "metadata": {
  "kernelspec": {
   "display_name": "Python 3",
   "language": "python",
   "name": "python3"
  },
  "language_info": {
   "codemirror_mode": {
    "name": "ipython",
    "version": 3
   },
   "file_extension": ".py",
   "mimetype": "text/x-python",
   "name": "python",
   "nbconvert_exporter": "python",
   "pygments_lexer": "ipython3",
   "version": "3.10.11"
  }
 },
 "nbformat": 4,
 "nbformat_minor": 5
}
